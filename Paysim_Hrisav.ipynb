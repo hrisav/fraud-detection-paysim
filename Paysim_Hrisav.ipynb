{
  "nbformat": 4,
  "nbformat_minor": 0,
  "metadata": {
    "colab": {
      "name": "Paysim - Hrisav.ipynb",
      "provenance": [],
      "collapsed_sections": [],
      "toc_visible": true
    },
    "kernelspec": {
      "name": "python3",
      "display_name": "Python 3"
    }
  },
  "cells": [
    {
      "cell_type": "markdown",
      "metadata": {
        "id": "VYCIpt0MxEg_"
      },
      "source": [
        "**step** - maps a unit of time in the real world. In this case 1 step is 1 hour of time. Total steps 744 (30 days simulation).\r\n",
        "\r\n",
        "**type** - CASH-IN, CASH-OUT, DEBIT, PAYMENT and TRANSFER.\r\n",
        "\r\n",
        "**amount** - amount of the transaction in local currency.\r\n",
        "\r\n",
        "**nameOrig** - customer who started the transaction\r\n",
        "\r\n",
        "**oldbalanceOrg** - initial balance before the transaction\r\n",
        "\r\n",
        "**newbalanceOrig** - new balance after the transaction\r\n",
        "\r\n",
        "**nameDest** - customer who is the recipient of the transaction\r\n",
        "\r\n",
        "**oldbalanceDest** - initial balance of recipient before the transaction.\r\n",
        "\r\n",
        "**newbalanceDest** - new balance of recipient after the transaction.\r\n",
        "\r\n",
        "**isFraud** - This is the transactions made by the fraudulent agents inside the simulation.\r\n",
        "\r\n",
        "**isFlaggedFraud** - The business model aims to control massive transfers from one account to another and flags illegal attempts. An illegal attempt in this dataset is an attempt to transfer more than 200.000 in a single transaction."
      ]
    },
    {
      "cell_type": "code",
      "metadata": {
        "id": "6OZrxuz0YVSE"
      },
      "source": [
        "# importing libraries\r\n",
        "\r\n",
        "import pandas as pd\r\n",
        "import numpy as np\r\n",
        "import seaborn as sns\r\n",
        "import matplotlib.pyplot as plt\r\n",
        "%matplotlib inline\r\n",
        "\r\n",
        "import warnings\r\n",
        "warnings.filterwarnings('ignore')"
      ],
      "execution_count": null,
      "outputs": []
    },
    {
      "cell_type": "code",
      "metadata": {
        "id": "A9JXjypJZWWy"
      },
      "source": [
        "pd.set_option('display.max_columns', None)\r\n",
        "pd.set_option('display.max_rows', None)"
      ],
      "execution_count": null,
      "outputs": []
    },
    {
      "cell_type": "code",
      "metadata": {
        "colab": {
          "base_uri": "https://localhost:8080/",
          "height": 204
        },
        "id": "tZ0IY2fZZX83",
        "outputId": "c9214375-e3af-4fd6-8f31-904f80a07412"
      },
      "source": [
        "df = pd.read_csv('/content/paysim1/PS_20174392719_1491204439457_log.csv')\r\n",
        "df.head()"
      ],
      "execution_count": null,
      "outputs": [
        {
          "output_type": "execute_result",
          "data": {
            "text/html": [
              "<div>\n",
              "<style scoped>\n",
              "    .dataframe tbody tr th:only-of-type {\n",
              "        vertical-align: middle;\n",
              "    }\n",
              "\n",
              "    .dataframe tbody tr th {\n",
              "        vertical-align: top;\n",
              "    }\n",
              "\n",
              "    .dataframe thead th {\n",
              "        text-align: right;\n",
              "    }\n",
              "</style>\n",
              "<table border=\"1\" class=\"dataframe\">\n",
              "  <thead>\n",
              "    <tr style=\"text-align: right;\">\n",
              "      <th></th>\n",
              "      <th>step</th>\n",
              "      <th>type</th>\n",
              "      <th>amount</th>\n",
              "      <th>nameOrig</th>\n",
              "      <th>oldbalanceOrg</th>\n",
              "      <th>newbalanceOrig</th>\n",
              "      <th>nameDest</th>\n",
              "      <th>oldbalanceDest</th>\n",
              "      <th>newbalanceDest</th>\n",
              "      <th>isFraud</th>\n",
              "      <th>isFlaggedFraud</th>\n",
              "    </tr>\n",
              "  </thead>\n",
              "  <tbody>\n",
              "    <tr>\n",
              "      <th>0</th>\n",
              "      <td>1</td>\n",
              "      <td>PAYMENT</td>\n",
              "      <td>9839.64</td>\n",
              "      <td>C1231006815</td>\n",
              "      <td>170136.0</td>\n",
              "      <td>160296.36</td>\n",
              "      <td>M1979787155</td>\n",
              "      <td>0.0</td>\n",
              "      <td>0.0</td>\n",
              "      <td>0</td>\n",
              "      <td>0</td>\n",
              "    </tr>\n",
              "    <tr>\n",
              "      <th>1</th>\n",
              "      <td>1</td>\n",
              "      <td>PAYMENT</td>\n",
              "      <td>1864.28</td>\n",
              "      <td>C1666544295</td>\n",
              "      <td>21249.0</td>\n",
              "      <td>19384.72</td>\n",
              "      <td>M2044282225</td>\n",
              "      <td>0.0</td>\n",
              "      <td>0.0</td>\n",
              "      <td>0</td>\n",
              "      <td>0</td>\n",
              "    </tr>\n",
              "    <tr>\n",
              "      <th>2</th>\n",
              "      <td>1</td>\n",
              "      <td>TRANSFER</td>\n",
              "      <td>181.00</td>\n",
              "      <td>C1305486145</td>\n",
              "      <td>181.0</td>\n",
              "      <td>0.00</td>\n",
              "      <td>C553264065</td>\n",
              "      <td>0.0</td>\n",
              "      <td>0.0</td>\n",
              "      <td>1</td>\n",
              "      <td>0</td>\n",
              "    </tr>\n",
              "    <tr>\n",
              "      <th>3</th>\n",
              "      <td>1</td>\n",
              "      <td>CASH_OUT</td>\n",
              "      <td>181.00</td>\n",
              "      <td>C840083671</td>\n",
              "      <td>181.0</td>\n",
              "      <td>0.00</td>\n",
              "      <td>C38997010</td>\n",
              "      <td>21182.0</td>\n",
              "      <td>0.0</td>\n",
              "      <td>1</td>\n",
              "      <td>0</td>\n",
              "    </tr>\n",
              "    <tr>\n",
              "      <th>4</th>\n",
              "      <td>1</td>\n",
              "      <td>PAYMENT</td>\n",
              "      <td>11668.14</td>\n",
              "      <td>C2048537720</td>\n",
              "      <td>41554.0</td>\n",
              "      <td>29885.86</td>\n",
              "      <td>M1230701703</td>\n",
              "      <td>0.0</td>\n",
              "      <td>0.0</td>\n",
              "      <td>0</td>\n",
              "      <td>0</td>\n",
              "    </tr>\n",
              "  </tbody>\n",
              "</table>\n",
              "</div>"
            ],
            "text/plain": [
              "   step      type    amount     nameOrig  oldbalanceOrg  newbalanceOrig  \\\n",
              "0     1   PAYMENT   9839.64  C1231006815       170136.0       160296.36   \n",
              "1     1   PAYMENT   1864.28  C1666544295        21249.0        19384.72   \n",
              "2     1  TRANSFER    181.00  C1305486145          181.0            0.00   \n",
              "3     1  CASH_OUT    181.00   C840083671          181.0            0.00   \n",
              "4     1   PAYMENT  11668.14  C2048537720        41554.0        29885.86   \n",
              "\n",
              "      nameDest  oldbalanceDest  newbalanceDest  isFraud  isFlaggedFraud  \n",
              "0  M1979787155             0.0             0.0        0               0  \n",
              "1  M2044282225             0.0             0.0        0               0  \n",
              "2   C553264065             0.0             0.0        1               0  \n",
              "3    C38997010         21182.0             0.0        1               0  \n",
              "4  M1230701703             0.0             0.0        0               0  "
            ]
          },
          "metadata": {
            "tags": []
          },
          "execution_count": 5
        }
      ]
    },
    {
      "cell_type": "code",
      "metadata": {
        "colab": {
          "base_uri": "https://localhost:8080/"
        },
        "id": "9Xp-WilVmZwq",
        "outputId": "5772c1f1-3d51-4b81-cdee-80ce37d6ec57"
      },
      "source": [
        "df.shape"
      ],
      "execution_count": null,
      "outputs": [
        {
          "output_type": "execute_result",
          "data": {
            "text/plain": [
              "(6362620, 11)"
            ]
          },
          "metadata": {
            "tags": []
          },
          "execution_count": 7
        }
      ]
    },
    {
      "cell_type": "code",
      "metadata": {
        "colab": {
          "base_uri": "https://localhost:8080/",
          "height": 297
        },
        "id": "NVJv7IMfmZzD",
        "outputId": "25edd9cb-b9d9-4c21-87d9-22f1e93cf9af"
      },
      "source": [
        "df.describe()"
      ],
      "execution_count": null,
      "outputs": [
        {
          "output_type": "execute_result",
          "data": {
            "text/html": [
              "<div>\n",
              "<style scoped>\n",
              "    .dataframe tbody tr th:only-of-type {\n",
              "        vertical-align: middle;\n",
              "    }\n",
              "\n",
              "    .dataframe tbody tr th {\n",
              "        vertical-align: top;\n",
              "    }\n",
              "\n",
              "    .dataframe thead th {\n",
              "        text-align: right;\n",
              "    }\n",
              "</style>\n",
              "<table border=\"1\" class=\"dataframe\">\n",
              "  <thead>\n",
              "    <tr style=\"text-align: right;\">\n",
              "      <th></th>\n",
              "      <th>step</th>\n",
              "      <th>amount</th>\n",
              "      <th>oldbalanceOrg</th>\n",
              "      <th>newbalanceOrig</th>\n",
              "      <th>oldbalanceDest</th>\n",
              "      <th>newbalanceDest</th>\n",
              "      <th>isFraud</th>\n",
              "      <th>isFlaggedFraud</th>\n",
              "    </tr>\n",
              "  </thead>\n",
              "  <tbody>\n",
              "    <tr>\n",
              "      <th>count</th>\n",
              "      <td>6.362620e+06</td>\n",
              "      <td>6.362620e+06</td>\n",
              "      <td>6.362620e+06</td>\n",
              "      <td>6.362620e+06</td>\n",
              "      <td>6.362620e+06</td>\n",
              "      <td>6.362620e+06</td>\n",
              "      <td>6.362620e+06</td>\n",
              "      <td>6.362620e+06</td>\n",
              "    </tr>\n",
              "    <tr>\n",
              "      <th>mean</th>\n",
              "      <td>2.433972e+02</td>\n",
              "      <td>1.798619e+05</td>\n",
              "      <td>8.338831e+05</td>\n",
              "      <td>8.551137e+05</td>\n",
              "      <td>1.100702e+06</td>\n",
              "      <td>1.224996e+06</td>\n",
              "      <td>1.290820e-03</td>\n",
              "      <td>2.514687e-06</td>\n",
              "    </tr>\n",
              "    <tr>\n",
              "      <th>std</th>\n",
              "      <td>1.423320e+02</td>\n",
              "      <td>6.038582e+05</td>\n",
              "      <td>2.888243e+06</td>\n",
              "      <td>2.924049e+06</td>\n",
              "      <td>3.399180e+06</td>\n",
              "      <td>3.674129e+06</td>\n",
              "      <td>3.590480e-02</td>\n",
              "      <td>1.585775e-03</td>\n",
              "    </tr>\n",
              "    <tr>\n",
              "      <th>min</th>\n",
              "      <td>1.000000e+00</td>\n",
              "      <td>0.000000e+00</td>\n",
              "      <td>0.000000e+00</td>\n",
              "      <td>0.000000e+00</td>\n",
              "      <td>0.000000e+00</td>\n",
              "      <td>0.000000e+00</td>\n",
              "      <td>0.000000e+00</td>\n",
              "      <td>0.000000e+00</td>\n",
              "    </tr>\n",
              "    <tr>\n",
              "      <th>25%</th>\n",
              "      <td>1.560000e+02</td>\n",
              "      <td>1.338957e+04</td>\n",
              "      <td>0.000000e+00</td>\n",
              "      <td>0.000000e+00</td>\n",
              "      <td>0.000000e+00</td>\n",
              "      <td>0.000000e+00</td>\n",
              "      <td>0.000000e+00</td>\n",
              "      <td>0.000000e+00</td>\n",
              "    </tr>\n",
              "    <tr>\n",
              "      <th>50%</th>\n",
              "      <td>2.390000e+02</td>\n",
              "      <td>7.487194e+04</td>\n",
              "      <td>1.420800e+04</td>\n",
              "      <td>0.000000e+00</td>\n",
              "      <td>1.327057e+05</td>\n",
              "      <td>2.146614e+05</td>\n",
              "      <td>0.000000e+00</td>\n",
              "      <td>0.000000e+00</td>\n",
              "    </tr>\n",
              "    <tr>\n",
              "      <th>75%</th>\n",
              "      <td>3.350000e+02</td>\n",
              "      <td>2.087215e+05</td>\n",
              "      <td>1.073152e+05</td>\n",
              "      <td>1.442584e+05</td>\n",
              "      <td>9.430367e+05</td>\n",
              "      <td>1.111909e+06</td>\n",
              "      <td>0.000000e+00</td>\n",
              "      <td>0.000000e+00</td>\n",
              "    </tr>\n",
              "    <tr>\n",
              "      <th>max</th>\n",
              "      <td>7.430000e+02</td>\n",
              "      <td>9.244552e+07</td>\n",
              "      <td>5.958504e+07</td>\n",
              "      <td>4.958504e+07</td>\n",
              "      <td>3.560159e+08</td>\n",
              "      <td>3.561793e+08</td>\n",
              "      <td>1.000000e+00</td>\n",
              "      <td>1.000000e+00</td>\n",
              "    </tr>\n",
              "  </tbody>\n",
              "</table>\n",
              "</div>"
            ],
            "text/plain": [
              "               step        amount  oldbalanceOrg  newbalanceOrig  \\\n",
              "count  6.362620e+06  6.362620e+06   6.362620e+06    6.362620e+06   \n",
              "mean   2.433972e+02  1.798619e+05   8.338831e+05    8.551137e+05   \n",
              "std    1.423320e+02  6.038582e+05   2.888243e+06    2.924049e+06   \n",
              "min    1.000000e+00  0.000000e+00   0.000000e+00    0.000000e+00   \n",
              "25%    1.560000e+02  1.338957e+04   0.000000e+00    0.000000e+00   \n",
              "50%    2.390000e+02  7.487194e+04   1.420800e+04    0.000000e+00   \n",
              "75%    3.350000e+02  2.087215e+05   1.073152e+05    1.442584e+05   \n",
              "max    7.430000e+02  9.244552e+07   5.958504e+07    4.958504e+07   \n",
              "\n",
              "       oldbalanceDest  newbalanceDest       isFraud  isFlaggedFraud  \n",
              "count    6.362620e+06    6.362620e+06  6.362620e+06    6.362620e+06  \n",
              "mean     1.100702e+06    1.224996e+06  1.290820e-03    2.514687e-06  \n",
              "std      3.399180e+06    3.674129e+06  3.590480e-02    1.585775e-03  \n",
              "min      0.000000e+00    0.000000e+00  0.000000e+00    0.000000e+00  \n",
              "25%      0.000000e+00    0.000000e+00  0.000000e+00    0.000000e+00  \n",
              "50%      1.327057e+05    2.146614e+05  0.000000e+00    0.000000e+00  \n",
              "75%      9.430367e+05    1.111909e+06  0.000000e+00    0.000000e+00  \n",
              "max      3.560159e+08    3.561793e+08  1.000000e+00    1.000000e+00  "
            ]
          },
          "metadata": {
            "tags": []
          },
          "execution_count": 8
        }
      ]
    },
    {
      "cell_type": "code",
      "metadata": {
        "colab": {
          "base_uri": "https://localhost:8080/"
        },
        "id": "qCphtHLCnIpS",
        "outputId": "75d03e23-7a41-4abf-c100-aad93c08fa44"
      },
      "source": [
        "df.info()"
      ],
      "execution_count": null,
      "outputs": [
        {
          "output_type": "stream",
          "text": [
            "<class 'pandas.core.frame.DataFrame'>\n",
            "RangeIndex: 6362620 entries, 0 to 6362619\n",
            "Data columns (total 11 columns):\n",
            " #   Column          Dtype  \n",
            "---  ------          -----  \n",
            " 0   step            int64  \n",
            " 1   type            object \n",
            " 2   amount          float64\n",
            " 3   nameOrig        object \n",
            " 4   oldbalanceOrg   float64\n",
            " 5   newbalanceOrig  float64\n",
            " 6   nameDest        object \n",
            " 7   oldbalanceDest  float64\n",
            " 8   newbalanceDest  float64\n",
            " 9   isFraud         int64  \n",
            " 10  isFlaggedFraud  int64  \n",
            "dtypes: float64(5), int64(3), object(3)\n",
            "memory usage: 534.0+ MB\n"
          ],
          "name": "stdout"
        }
      ]
    },
    {
      "cell_type": "code",
      "metadata": {
        "colab": {
          "base_uri": "https://localhost:8080/"
        },
        "id": "W1TnDzoAnK8o",
        "outputId": "0d761229-1f10-4e31-a2a2-bbba4eb1c4f6"
      },
      "source": [
        "df.isnull().sum()"
      ],
      "execution_count": null,
      "outputs": [
        {
          "output_type": "execute_result",
          "data": {
            "text/plain": [
              "step              0\n",
              "type              0\n",
              "amount            0\n",
              "nameOrig          0\n",
              "oldbalanceOrg     0\n",
              "newbalanceOrig    0\n",
              "nameDest          0\n",
              "oldbalanceDest    0\n",
              "newbalanceDest    0\n",
              "isFraud           0\n",
              "isFlaggedFraud    0\n",
              "dtype: int64"
            ]
          },
          "metadata": {
            "tags": []
          },
          "execution_count": 10
        }
      ]
    },
    {
      "cell_type": "markdown",
      "metadata": {
        "id": "6qRrDu2VRNUg"
      },
      "source": [
        "## Understanding Steps"
      ]
    },
    {
      "cell_type": "code",
      "metadata": {
        "colab": {
          "base_uri": "https://localhost:8080/"
        },
        "id": "CWkq9sp8saHU",
        "outputId": "aea5f099-8790-422f-d4f3-9f07713b6113"
      },
      "source": [
        "df['step'].value_counts().head(5)"
      ],
      "execution_count": null,
      "outputs": [
        {
          "output_type": "execute_result",
          "data": {
            "text/plain": [
              "19     51352\n",
              "18     49579\n",
              "187    49083\n",
              "235    47491\n",
              "307    46968\n",
              "Name: step, dtype: int64"
            ]
          },
          "metadata": {
            "tags": []
          },
          "execution_count": 56
        }
      ]
    },
    {
      "cell_type": "code",
      "metadata": {
        "id": "yT-TGyq6GMGc"
      },
      "source": [
        "#run\r\n",
        "df['day'] = pd.cut(df['step'],[0,24,48,72,96,120,144,168,192,216,240,264,288,312,336,360,384,408,432,456,480,504,528,552,576,600,624,648,672,696,720,800], \r\n",
        "                   labels=[1,2,3,4,5,6,7,8,9,10,11,12,13,14,15,16,17,18,19,20,21,22,23,24,25,26,27,28,29,30,31])"
      ],
      "execution_count": null,
      "outputs": []
    },
    {
      "cell_type": "code",
      "metadata": {
        "colab": {
          "base_uri": "https://localhost:8080/",
          "height": 204
        },
        "id": "8W6WbUrpc7Ym",
        "outputId": "e03ee4ab-46eb-4f4a-e069-98e6a9fcb901"
      },
      "source": [
        "df.sample(n=5) "
      ],
      "execution_count": null,
      "outputs": [
        {
          "output_type": "execute_result",
          "data": {
            "text/html": [
              "<div>\n",
              "<style scoped>\n",
              "    .dataframe tbody tr th:only-of-type {\n",
              "        vertical-align: middle;\n",
              "    }\n",
              "\n",
              "    .dataframe tbody tr th {\n",
              "        vertical-align: top;\n",
              "    }\n",
              "\n",
              "    .dataframe thead th {\n",
              "        text-align: right;\n",
              "    }\n",
              "</style>\n",
              "<table border=\"1\" class=\"dataframe\">\n",
              "  <thead>\n",
              "    <tr style=\"text-align: right;\">\n",
              "      <th></th>\n",
              "      <th>step</th>\n",
              "      <th>type</th>\n",
              "      <th>amount</th>\n",
              "      <th>nameOrig</th>\n",
              "      <th>oldbalanceOrg</th>\n",
              "      <th>newbalanceOrig</th>\n",
              "      <th>nameDest</th>\n",
              "      <th>oldbalanceDest</th>\n",
              "      <th>newbalanceDest</th>\n",
              "      <th>isFraud</th>\n",
              "      <th>isFlaggedFraud</th>\n",
              "      <th>day</th>\n",
              "    </tr>\n",
              "  </thead>\n",
              "  <tbody>\n",
              "    <tr>\n",
              "      <th>5918454</th>\n",
              "      <td>404</td>\n",
              "      <td>PAYMENT</td>\n",
              "      <td>40.16</td>\n",
              "      <td>C1150996711</td>\n",
              "      <td>0.00</td>\n",
              "      <td>0.00</td>\n",
              "      <td>M1852864665</td>\n",
              "      <td>0.00</td>\n",
              "      <td>0.0</td>\n",
              "      <td>0</td>\n",
              "      <td>0</td>\n",
              "      <td>17</td>\n",
              "    </tr>\n",
              "    <tr>\n",
              "      <th>5169140</th>\n",
              "      <td>358</td>\n",
              "      <td>PAYMENT</td>\n",
              "      <td>4779.81</td>\n",
              "      <td>C146588623</td>\n",
              "      <td>0.00</td>\n",
              "      <td>0.00</td>\n",
              "      <td>M1641131938</td>\n",
              "      <td>0.00</td>\n",
              "      <td>0.0</td>\n",
              "      <td>0</td>\n",
              "      <td>0</td>\n",
              "      <td>15</td>\n",
              "    </tr>\n",
              "    <tr>\n",
              "      <th>3349472</th>\n",
              "      <td>253</td>\n",
              "      <td>CASH_IN</td>\n",
              "      <td>228002.82</td>\n",
              "      <td>C1474677649</td>\n",
              "      <td>197196.66</td>\n",
              "      <td>425199.48</td>\n",
              "      <td>C911452600</td>\n",
              "      <td>1902184.82</td>\n",
              "      <td>1674182.0</td>\n",
              "      <td>0</td>\n",
              "      <td>0</td>\n",
              "      <td>11</td>\n",
              "    </tr>\n",
              "    <tr>\n",
              "      <th>3611927</th>\n",
              "      <td>273</td>\n",
              "      <td>PAYMENT</td>\n",
              "      <td>3290.33</td>\n",
              "      <td>C604963255</td>\n",
              "      <td>50434.00</td>\n",
              "      <td>47143.67</td>\n",
              "      <td>M1447059811</td>\n",
              "      <td>0.00</td>\n",
              "      <td>0.0</td>\n",
              "      <td>0</td>\n",
              "      <td>0</td>\n",
              "      <td>12</td>\n",
              "    </tr>\n",
              "    <tr>\n",
              "      <th>1289981</th>\n",
              "      <td>135</td>\n",
              "      <td>PAYMENT</td>\n",
              "      <td>10506.93</td>\n",
              "      <td>C1907722546</td>\n",
              "      <td>0.00</td>\n",
              "      <td>0.00</td>\n",
              "      <td>M1209158995</td>\n",
              "      <td>0.00</td>\n",
              "      <td>0.0</td>\n",
              "      <td>0</td>\n",
              "      <td>0</td>\n",
              "      <td>6</td>\n",
              "    </tr>\n",
              "  </tbody>\n",
              "</table>\n",
              "</div>"
            ],
            "text/plain": [
              "         step     type     amount     nameOrig  oldbalanceOrg  newbalanceOrig  \\\n",
              "5918454   404  PAYMENT      40.16  C1150996711           0.00            0.00   \n",
              "5169140   358  PAYMENT    4779.81   C146588623           0.00            0.00   \n",
              "3349472   253  CASH_IN  228002.82  C1474677649      197196.66       425199.48   \n",
              "3611927   273  PAYMENT    3290.33   C604963255       50434.00        47143.67   \n",
              "1289981   135  PAYMENT   10506.93  C1907722546           0.00            0.00   \n",
              "\n",
              "            nameDest  oldbalanceDest  newbalanceDest  isFraud  isFlaggedFraud  \\\n",
              "5918454  M1852864665            0.00             0.0        0               0   \n",
              "5169140  M1641131938            0.00             0.0        0               0   \n",
              "3349472   C911452600      1902184.82       1674182.0        0               0   \n",
              "3611927  M1447059811            0.00             0.0        0               0   \n",
              "1289981  M1209158995            0.00             0.0        0               0   \n",
              "\n",
              "        day  \n",
              "5918454  17  \n",
              "5169140  15  \n",
              "3349472  11  \n",
              "3611927  12  \n",
              "1289981   6  "
            ]
          },
          "metadata": {
            "tags": []
          },
          "execution_count": 58
        }
      ]
    },
    {
      "cell_type": "code",
      "metadata": {
        "colab": {
          "base_uri": "https://localhost:8080/",
          "height": 235
        },
        "id": "_N1CbnJjSNyc",
        "outputId": "cfe96e02-3ab0-4906-94d7-a44b023cf570"
      },
      "source": [
        "df.groupby(['day']).agg({'day':'count','amount':'sum'}).sort_values(by=['amount'],ascending=False).head(5)"
      ],
      "execution_count": null,
      "outputs": [
        {
          "output_type": "execute_result",
          "data": {
            "text/html": [
              "<div>\n",
              "<style scoped>\n",
              "    .dataframe tbody tr th:only-of-type {\n",
              "        vertical-align: middle;\n",
              "    }\n",
              "\n",
              "    .dataframe tbody tr th {\n",
              "        vertical-align: top;\n",
              "    }\n",
              "\n",
              "    .dataframe thead th {\n",
              "        text-align: right;\n",
              "    }\n",
              "</style>\n",
              "<table border=\"1\" class=\"dataframe\">\n",
              "  <thead>\n",
              "    <tr style=\"text-align: right;\">\n",
              "      <th></th>\n",
              "      <th>day</th>\n",
              "      <th>amount</th>\n",
              "    </tr>\n",
              "    <tr>\n",
              "      <th>day</th>\n",
              "      <th></th>\n",
              "      <th></th>\n",
              "    </tr>\n",
              "  </thead>\n",
              "  <tbody>\n",
              "    <tr>\n",
              "      <th>13</th>\n",
              "      <td>428583</td>\n",
              "      <td>1.386731e+11</td>\n",
              "    </tr>\n",
              "    <tr>\n",
              "      <th>14</th>\n",
              "      <td>397876</td>\n",
              "      <td>1.000374e+11</td>\n",
              "    </tr>\n",
              "    <tr>\n",
              "      <th>1</th>\n",
              "      <td>574255</td>\n",
              "      <td>9.213187e+10</td>\n",
              "    </tr>\n",
              "    <tr>\n",
              "      <th>15</th>\n",
              "      <td>401282</td>\n",
              "      <td>7.747236e+10</td>\n",
              "    </tr>\n",
              "    <tr>\n",
              "      <th>17</th>\n",
              "      <td>425766</td>\n",
              "      <td>7.425013e+10</td>\n",
              "    </tr>\n",
              "  </tbody>\n",
              "</table>\n",
              "</div>"
            ],
            "text/plain": [
              "        day        amount\n",
              "day                      \n",
              "13   428583  1.386731e+11\n",
              "14   397876  1.000374e+11\n",
              "1    574255  9.213187e+10\n",
              "15   401282  7.747236e+10\n",
              "17   425766  7.425013e+10"
            ]
          },
          "metadata": {
            "tags": []
          },
          "execution_count": 41
        }
      ]
    },
    {
      "cell_type": "markdown",
      "metadata": {
        "id": "hV6ec4mZWxem"
      },
      "source": [
        "Highest total amount transaction happened on 13th day (for Fraud and Non Fraud combined)."
      ]
    },
    {
      "cell_type": "code",
      "metadata": {
        "colab": {
          "base_uri": "https://localhost:8080/"
        },
        "id": "mtNi7fUZVrQC",
        "outputId": "7d9a3daa-9ab9-425b-a91c-88d576bb0212"
      },
      "source": [
        "df_fraud = df[df['isFraud']==1]\r\n",
        "df_fraud.shape"
      ],
      "execution_count": null,
      "outputs": [
        {
          "output_type": "execute_result",
          "data": {
            "text/plain": [
              "(8213, 12)"
            ]
          },
          "metadata": {
            "tags": []
          },
          "execution_count": 9
        }
      ]
    },
    {
      "cell_type": "code",
      "metadata": {
        "colab": {
          "base_uri": "https://localhost:8080/"
        },
        "id": "wI-jz19TVrUu",
        "outputId": "a9355c3c-acc9-43e4-e185-24e92105f348"
      },
      "source": [
        "df_nonfraud = df[df['isFraud']==0]\r\n",
        "df_nonfraud.shape"
      ],
      "execution_count": null,
      "outputs": [
        {
          "output_type": "execute_result",
          "data": {
            "text/plain": [
              "(6354407, 12)"
            ]
          },
          "metadata": {
            "tags": []
          },
          "execution_count": 10
        }
      ]
    },
    {
      "cell_type": "code",
      "metadata": {
        "colab": {
          "base_uri": "https://localhost:8080/",
          "height": 235
        },
        "id": "vMN3grA2YOFb",
        "outputId": "1138e404-5ea1-4cee-c275-17332a123d25"
      },
      "source": [
        "day_amount=df_fraud.groupby(['day']).agg({'day':'count','amount':'sum'})\r\n",
        "day_amount.head()"
      ],
      "execution_count": null,
      "outputs": [
        {
          "output_type": "execute_result",
          "data": {
            "text/html": [
              "<div>\n",
              "<style scoped>\n",
              "    .dataframe tbody tr th:only-of-type {\n",
              "        vertical-align: middle;\n",
              "    }\n",
              "\n",
              "    .dataframe tbody tr th {\n",
              "        vertical-align: top;\n",
              "    }\n",
              "\n",
              "    .dataframe thead th {\n",
              "        text-align: right;\n",
              "    }\n",
              "</style>\n",
              "<table border=\"1\" class=\"dataframe\">\n",
              "  <thead>\n",
              "    <tr style=\"text-align: right;\">\n",
              "      <th></th>\n",
              "      <th>day</th>\n",
              "      <th>amount</th>\n",
              "    </tr>\n",
              "    <tr>\n",
              "      <th>day</th>\n",
              "      <th></th>\n",
              "      <th></th>\n",
              "    </tr>\n",
              "  </thead>\n",
              "  <tbody>\n",
              "    <tr>\n",
              "      <th>1</th>\n",
              "      <td>271</td>\n",
              "      <td>2.111638e+08</td>\n",
              "    </tr>\n",
              "    <tr>\n",
              "      <th>2</th>\n",
              "      <td>309</td>\n",
              "      <td>3.792397e+08</td>\n",
              "    </tr>\n",
              "    <tr>\n",
              "      <th>3</th>\n",
              "      <td>310</td>\n",
              "      <td>3.945089e+08</td>\n",
              "    </tr>\n",
              "    <tr>\n",
              "      <th>4</th>\n",
              "      <td>262</td>\n",
              "      <td>4.382468e+08</td>\n",
              "    </tr>\n",
              "    <tr>\n",
              "      <th>5</th>\n",
              "      <td>252</td>\n",
              "      <td>2.449806e+08</td>\n",
              "    </tr>\n",
              "  </tbody>\n",
              "</table>\n",
              "</div>"
            ],
            "text/plain": [
              "     day        amount\n",
              "day                   \n",
              "1    271  2.111638e+08\n",
              "2    309  3.792397e+08\n",
              "3    310  3.945089e+08\n",
              "4    262  4.382468e+08\n",
              "5    252  2.449806e+08"
            ]
          },
          "metadata": {
            "tags": []
          },
          "execution_count": 11
        }
      ]
    },
    {
      "cell_type": "code",
      "metadata": {
        "colab": {
          "base_uri": "https://localhost:8080/",
          "height": 235
        },
        "id": "5QXq2vK0eZPI",
        "outputId": "9a5cb850-aa51-4065-c20f-d50a67e3f481"
      },
      "source": [
        "day_amount = day_amount.rename(columns={'day':'Total_Count'})\r\n",
        "day_amount.head()"
      ],
      "execution_count": null,
      "outputs": [
        {
          "output_type": "execute_result",
          "data": {
            "text/html": [
              "<div>\n",
              "<style scoped>\n",
              "    .dataframe tbody tr th:only-of-type {\n",
              "        vertical-align: middle;\n",
              "    }\n",
              "\n",
              "    .dataframe tbody tr th {\n",
              "        vertical-align: top;\n",
              "    }\n",
              "\n",
              "    .dataframe thead th {\n",
              "        text-align: right;\n",
              "    }\n",
              "</style>\n",
              "<table border=\"1\" class=\"dataframe\">\n",
              "  <thead>\n",
              "    <tr style=\"text-align: right;\">\n",
              "      <th></th>\n",
              "      <th>Total_Count</th>\n",
              "      <th>amount</th>\n",
              "    </tr>\n",
              "    <tr>\n",
              "      <th>day</th>\n",
              "      <th></th>\n",
              "      <th></th>\n",
              "    </tr>\n",
              "  </thead>\n",
              "  <tbody>\n",
              "    <tr>\n",
              "      <th>1</th>\n",
              "      <td>271</td>\n",
              "      <td>2.111638e+08</td>\n",
              "    </tr>\n",
              "    <tr>\n",
              "      <th>2</th>\n",
              "      <td>309</td>\n",
              "      <td>3.792397e+08</td>\n",
              "    </tr>\n",
              "    <tr>\n",
              "      <th>3</th>\n",
              "      <td>310</td>\n",
              "      <td>3.945089e+08</td>\n",
              "    </tr>\n",
              "    <tr>\n",
              "      <th>4</th>\n",
              "      <td>262</td>\n",
              "      <td>4.382468e+08</td>\n",
              "    </tr>\n",
              "    <tr>\n",
              "      <th>5</th>\n",
              "      <td>252</td>\n",
              "      <td>2.449806e+08</td>\n",
              "    </tr>\n",
              "  </tbody>\n",
              "</table>\n",
              "</div>"
            ],
            "text/plain": [
              "     Total_Count        amount\n",
              "day                           \n",
              "1            271  2.111638e+08\n",
              "2            309  3.792397e+08\n",
              "3            310  3.945089e+08\n",
              "4            262  4.382468e+08\n",
              "5            252  2.449806e+08"
            ]
          },
          "metadata": {
            "tags": []
          },
          "execution_count": 12
        }
      ]
    },
    {
      "cell_type": "code",
      "metadata": {
        "colab": {
          "base_uri": "https://localhost:8080/",
          "height": 204
        },
        "id": "1oJLjq3bqGne",
        "outputId": "28e3d86d-031b-4528-b062-31249a3ba845"
      },
      "source": [
        "day_amount = day_amount.reset_index()\r\n",
        "day_amount.head()"
      ],
      "execution_count": null,
      "outputs": [
        {
          "output_type": "execute_result",
          "data": {
            "text/html": [
              "<div>\n",
              "<style scoped>\n",
              "    .dataframe tbody tr th:only-of-type {\n",
              "        vertical-align: middle;\n",
              "    }\n",
              "\n",
              "    .dataframe tbody tr th {\n",
              "        vertical-align: top;\n",
              "    }\n",
              "\n",
              "    .dataframe thead th {\n",
              "        text-align: right;\n",
              "    }\n",
              "</style>\n",
              "<table border=\"1\" class=\"dataframe\">\n",
              "  <thead>\n",
              "    <tr style=\"text-align: right;\">\n",
              "      <th></th>\n",
              "      <th>day</th>\n",
              "      <th>Total_Count</th>\n",
              "      <th>amount</th>\n",
              "    </tr>\n",
              "  </thead>\n",
              "  <tbody>\n",
              "    <tr>\n",
              "      <th>0</th>\n",
              "      <td>1</td>\n",
              "      <td>271</td>\n",
              "      <td>2.111638e+08</td>\n",
              "    </tr>\n",
              "    <tr>\n",
              "      <th>1</th>\n",
              "      <td>2</td>\n",
              "      <td>309</td>\n",
              "      <td>3.792397e+08</td>\n",
              "    </tr>\n",
              "    <tr>\n",
              "      <th>2</th>\n",
              "      <td>3</td>\n",
              "      <td>310</td>\n",
              "      <td>3.945089e+08</td>\n",
              "    </tr>\n",
              "    <tr>\n",
              "      <th>3</th>\n",
              "      <td>4</td>\n",
              "      <td>262</td>\n",
              "      <td>4.382468e+08</td>\n",
              "    </tr>\n",
              "    <tr>\n",
              "      <th>4</th>\n",
              "      <td>5</td>\n",
              "      <td>252</td>\n",
              "      <td>2.449806e+08</td>\n",
              "    </tr>\n",
              "  </tbody>\n",
              "</table>\n",
              "</div>"
            ],
            "text/plain": [
              "  day  Total_Count        amount\n",
              "0   1          271  2.111638e+08\n",
              "1   2          309  3.792397e+08\n",
              "2   3          310  3.945089e+08\n",
              "3   4          262  4.382468e+08\n",
              "4   5          252  2.449806e+08"
            ]
          },
          "metadata": {
            "tags": []
          },
          "execution_count": 13
        }
      ]
    },
    {
      "cell_type": "code",
      "metadata": {
        "colab": {
          "base_uri": "https://localhost:8080/",
          "height": 405
        },
        "id": "_a-cXCfTXPYD",
        "outputId": "ef21122d-2c35-45c3-fe06-3c1b6743370f"
      },
      "source": [
        "plt.figure(figsize=(15,6))\r\n",
        "sns.barplot(x=\"day\", y=\"Total_Count\", data=day_amount)"
      ],
      "execution_count": null,
      "outputs": [
        {
          "output_type": "execute_result",
          "data": {
            "text/plain": [
              "<matplotlib.axes._subplots.AxesSubplot at 0x7f761764b470>"
            ]
          },
          "metadata": {
            "tags": []
          },
          "execution_count": 76
        },
        {
          "output_type": "display_data",
          "data": {
            "image/png": "[encoded data removed]",
            "text/plain": [
              "<Figure size 1080x432 with 1 Axes>"
            ]
          },
          "metadata": {
            "tags": [],
            "needs_background": "light"
          }
        }
      ]
    },
    {
      "cell_type": "code",
      "metadata": {
        "colab": {
          "base_uri": "https://localhost:8080/",
          "height": 416
        },
        "id": "Cc8qU6Qktpzx",
        "outputId": "4ef1eab8-d5ea-42a7-ef94-4fa3b96a4252"
      },
      "source": [
        "plt.figure(figsize=(15,6))\r\n",
        "sns.lineplot(x=\"day\", y=\"amount\", data=day_amount)"
      ],
      "execution_count": null,
      "outputs": [
        {
          "output_type": "execute_result",
          "data": {
            "text/plain": [
              "<matplotlib.axes._subplots.AxesSubplot at 0x7f76174668d0>"
            ]
          },
          "metadata": {
            "tags": []
          },
          "execution_count": 78
        },
        {
          "output_type": "display_data",
          "data": {
            "image/png": "[encoded data removed]",
            "text/plain": [
              "<Figure size 1080x432 with 1 Axes>"
            ]
          },
          "metadata": {
            "tags": [],
            "needs_background": "light"
          }
        }
      ]
    },
    {
      "cell_type": "markdown",
      "metadata": {
        "id": "0AZQFNZDt-gn"
      },
      "source": [
        "Maximum fraud transaction happened on 17th day."
      ]
    },
    {
      "cell_type": "markdown",
      "metadata": {
        "id": "0A1w2tbu3yl_"
      },
      "source": [
        "## Understanding 'isFlaggedFraud'"
      ]
    },
    {
      "cell_type": "code",
      "metadata": {
        "colab": {
          "base_uri": "https://localhost:8080/"
        },
        "id": "ip6u9dSL36VA",
        "outputId": "6fe62aa6-df14-484b-8bd3-736af8daee6c"
      },
      "source": [
        "df['isFraud'].value_counts()"
      ],
      "execution_count": null,
      "outputs": [
        {
          "output_type": "execute_result",
          "data": {
            "text/plain": [
              "0    6354407\n",
              "1       8213\n",
              "Name: isFraud, dtype: int64"
            ]
          },
          "metadata": {
            "tags": []
          },
          "execution_count": 79
        }
      ]
    },
    {
      "cell_type": "code",
      "metadata": {
        "colab": {
          "base_uri": "https://localhost:8080/"
        },
        "id": "8MIIZMUE4-Q8",
        "outputId": "fbd58e1a-a81e-4f13-a04a-9e6b06bb08a1"
      },
      "source": [
        "df['isFlaggedFraud'].value_counts()"
      ],
      "execution_count": null,
      "outputs": [
        {
          "output_type": "execute_result",
          "data": {
            "text/plain": [
              "0    6362604\n",
              "1         16\n",
              "Name: isFlaggedFraud, dtype: int64"
            ]
          },
          "metadata": {
            "tags": []
          },
          "execution_count": 80
        }
      ]
    },
    {
      "cell_type": "code",
      "metadata": {
        "colab": {
          "base_uri": "https://localhost:8080/",
          "height": 545
        },
        "id": "wzFi23TP36OR",
        "outputId": "691198fa-c7a6-4035-8152-4e328b259c5b"
      },
      "source": [
        "df[df['isFlaggedFraud']==1]"
      ],
      "execution_count": null,
      "outputs": [
        {
          "output_type": "execute_result",
          "data": {
            "text/html": [
              "<div>\n",
              "<style scoped>\n",
              "    .dataframe tbody tr th:only-of-type {\n",
              "        vertical-align: middle;\n",
              "    }\n",
              "\n",
              "    .dataframe tbody tr th {\n",
              "        vertical-align: top;\n",
              "    }\n",
              "\n",
              "    .dataframe thead th {\n",
              "        text-align: right;\n",
              "    }\n",
              "</style>\n",
              "<table border=\"1\" class=\"dataframe\">\n",
              "  <thead>\n",
              "    <tr style=\"text-align: right;\">\n",
              "      <th></th>\n",
              "      <th>step</th>\n",
              "      <th>type</th>\n",
              "      <th>amount</th>\n",
              "      <th>nameOrig</th>\n",
              "      <th>oldbalanceOrg</th>\n",
              "      <th>newbalanceOrig</th>\n",
              "      <th>nameDest</th>\n",
              "      <th>oldbalanceDest</th>\n",
              "      <th>newbalanceDest</th>\n",
              "      <th>isFraud</th>\n",
              "      <th>isFlaggedFraud</th>\n",
              "      <th>day</th>\n",
              "    </tr>\n",
              "  </thead>\n",
              "  <tbody>\n",
              "    <tr>\n",
              "      <th>2736446</th>\n",
              "      <td>212</td>\n",
              "      <td>TRANSFER</td>\n",
              "      <td>4953893.08</td>\n",
              "      <td>C728984460</td>\n",
              "      <td>4953893.08</td>\n",
              "      <td>4953893.08</td>\n",
              "      <td>C639921569</td>\n",
              "      <td>0.0</td>\n",
              "      <td>0.0</td>\n",
              "      <td>1</td>\n",
              "      <td>1</td>\n",
              "      <td>9</td>\n",
              "    </tr>\n",
              "    <tr>\n",
              "      <th>3247297</th>\n",
              "      <td>250</td>\n",
              "      <td>TRANSFER</td>\n",
              "      <td>1343002.08</td>\n",
              "      <td>C1100582606</td>\n",
              "      <td>1343002.08</td>\n",
              "      <td>1343002.08</td>\n",
              "      <td>C1147517658</td>\n",
              "      <td>0.0</td>\n",
              "      <td>0.0</td>\n",
              "      <td>1</td>\n",
              "      <td>1</td>\n",
              "      <td>11</td>\n",
              "    </tr>\n",
              "    <tr>\n",
              "      <th>3760288</th>\n",
              "      <td>279</td>\n",
              "      <td>TRANSFER</td>\n",
              "      <td>536624.41</td>\n",
              "      <td>C1035541766</td>\n",
              "      <td>536624.41</td>\n",
              "      <td>536624.41</td>\n",
              "      <td>C1100697970</td>\n",
              "      <td>0.0</td>\n",
              "      <td>0.0</td>\n",
              "      <td>1</td>\n",
              "      <td>1</td>\n",
              "      <td>12</td>\n",
              "    </tr>\n",
              "    <tr>\n",
              "      <th>5563713</th>\n",
              "      <td>387</td>\n",
              "      <td>TRANSFER</td>\n",
              "      <td>4892193.09</td>\n",
              "      <td>C908544136</td>\n",
              "      <td>4892193.09</td>\n",
              "      <td>4892193.09</td>\n",
              "      <td>C891140444</td>\n",
              "      <td>0.0</td>\n",
              "      <td>0.0</td>\n",
              "      <td>1</td>\n",
              "      <td>1</td>\n",
              "      <td>17</td>\n",
              "    </tr>\n",
              "    <tr>\n",
              "      <th>5996407</th>\n",
              "      <td>425</td>\n",
              "      <td>TRANSFER</td>\n",
              "      <td>10000000.00</td>\n",
              "      <td>C689608084</td>\n",
              "      <td>19585040.37</td>\n",
              "      <td>19585040.37</td>\n",
              "      <td>C1392803603</td>\n",
              "      <td>0.0</td>\n",
              "      <td>0.0</td>\n",
              "      <td>1</td>\n",
              "      <td>1</td>\n",
              "      <td>18</td>\n",
              "    </tr>\n",
              "    <tr>\n",
              "      <th>5996409</th>\n",
              "      <td>425</td>\n",
              "      <td>TRANSFER</td>\n",
              "      <td>9585040.37</td>\n",
              "      <td>C452586515</td>\n",
              "      <td>19585040.37</td>\n",
              "      <td>19585040.37</td>\n",
              "      <td>C1109166882</td>\n",
              "      <td>0.0</td>\n",
              "      <td>0.0</td>\n",
              "      <td>1</td>\n",
              "      <td>1</td>\n",
              "      <td>18</td>\n",
              "    </tr>\n",
              "    <tr>\n",
              "      <th>6168499</th>\n",
              "      <td>554</td>\n",
              "      <td>TRANSFER</td>\n",
              "      <td>3576297.10</td>\n",
              "      <td>C193696150</td>\n",
              "      <td>3576297.10</td>\n",
              "      <td>3576297.10</td>\n",
              "      <td>C484597480</td>\n",
              "      <td>0.0</td>\n",
              "      <td>0.0</td>\n",
              "      <td>1</td>\n",
              "      <td>1</td>\n",
              "      <td>24</td>\n",
              "    </tr>\n",
              "    <tr>\n",
              "      <th>6205439</th>\n",
              "      <td>586</td>\n",
              "      <td>TRANSFER</td>\n",
              "      <td>353874.22</td>\n",
              "      <td>C1684585475</td>\n",
              "      <td>353874.22</td>\n",
              "      <td>353874.22</td>\n",
              "      <td>C1770418982</td>\n",
              "      <td>0.0</td>\n",
              "      <td>0.0</td>\n",
              "      <td>1</td>\n",
              "      <td>1</td>\n",
              "      <td>25</td>\n",
              "    </tr>\n",
              "    <tr>\n",
              "      <th>6266413</th>\n",
              "      <td>617</td>\n",
              "      <td>TRANSFER</td>\n",
              "      <td>2542664.27</td>\n",
              "      <td>C786455622</td>\n",
              "      <td>2542664.27</td>\n",
              "      <td>2542664.27</td>\n",
              "      <td>C661958277</td>\n",
              "      <td>0.0</td>\n",
              "      <td>0.0</td>\n",
              "      <td>1</td>\n",
              "      <td>1</td>\n",
              "      <td>26</td>\n",
              "    </tr>\n",
              "    <tr>\n",
              "      <th>6281482</th>\n",
              "      <td>646</td>\n",
              "      <td>TRANSFER</td>\n",
              "      <td>10000000.00</td>\n",
              "      <td>C19004745</td>\n",
              "      <td>10399045.08</td>\n",
              "      <td>10399045.08</td>\n",
              "      <td>C1806199534</td>\n",
              "      <td>0.0</td>\n",
              "      <td>0.0</td>\n",
              "      <td>1</td>\n",
              "      <td>1</td>\n",
              "      <td>27</td>\n",
              "    </tr>\n",
              "    <tr>\n",
              "      <th>6281484</th>\n",
              "      <td>646</td>\n",
              "      <td>TRANSFER</td>\n",
              "      <td>399045.08</td>\n",
              "      <td>C724693370</td>\n",
              "      <td>10399045.08</td>\n",
              "      <td>10399045.08</td>\n",
              "      <td>C1909486199</td>\n",
              "      <td>0.0</td>\n",
              "      <td>0.0</td>\n",
              "      <td>1</td>\n",
              "      <td>1</td>\n",
              "      <td>27</td>\n",
              "    </tr>\n",
              "    <tr>\n",
              "      <th>6296014</th>\n",
              "      <td>671</td>\n",
              "      <td>TRANSFER</td>\n",
              "      <td>3441041.46</td>\n",
              "      <td>C917414431</td>\n",
              "      <td>3441041.46</td>\n",
              "      <td>3441041.46</td>\n",
              "      <td>C1082139865</td>\n",
              "      <td>0.0</td>\n",
              "      <td>0.0</td>\n",
              "      <td>1</td>\n",
              "      <td>1</td>\n",
              "      <td>28</td>\n",
              "    </tr>\n",
              "    <tr>\n",
              "      <th>6351225</th>\n",
              "      <td>702</td>\n",
              "      <td>TRANSFER</td>\n",
              "      <td>3171085.59</td>\n",
              "      <td>C1892216157</td>\n",
              "      <td>3171085.59</td>\n",
              "      <td>3171085.59</td>\n",
              "      <td>C1308068787</td>\n",
              "      <td>0.0</td>\n",
              "      <td>0.0</td>\n",
              "      <td>1</td>\n",
              "      <td>1</td>\n",
              "      <td>30</td>\n",
              "    </tr>\n",
              "    <tr>\n",
              "      <th>6362460</th>\n",
              "      <td>730</td>\n",
              "      <td>TRANSFER</td>\n",
              "      <td>10000000.00</td>\n",
              "      <td>C2140038573</td>\n",
              "      <td>17316255.05</td>\n",
              "      <td>17316255.05</td>\n",
              "      <td>C1395467927</td>\n",
              "      <td>0.0</td>\n",
              "      <td>0.0</td>\n",
              "      <td>1</td>\n",
              "      <td>1</td>\n",
              "      <td>31</td>\n",
              "    </tr>\n",
              "    <tr>\n",
              "      <th>6362462</th>\n",
              "      <td>730</td>\n",
              "      <td>TRANSFER</td>\n",
              "      <td>7316255.05</td>\n",
              "      <td>C1869569059</td>\n",
              "      <td>17316255.05</td>\n",
              "      <td>17316255.05</td>\n",
              "      <td>C1861208726</td>\n",
              "      <td>0.0</td>\n",
              "      <td>0.0</td>\n",
              "      <td>1</td>\n",
              "      <td>1</td>\n",
              "      <td>31</td>\n",
              "    </tr>\n",
              "    <tr>\n",
              "      <th>6362584</th>\n",
              "      <td>741</td>\n",
              "      <td>TRANSFER</td>\n",
              "      <td>5674547.89</td>\n",
              "      <td>C992223106</td>\n",
              "      <td>5674547.89</td>\n",
              "      <td>5674547.89</td>\n",
              "      <td>C1366804249</td>\n",
              "      <td>0.0</td>\n",
              "      <td>0.0</td>\n",
              "      <td>1</td>\n",
              "      <td>1</td>\n",
              "      <td>31</td>\n",
              "    </tr>\n",
              "  </tbody>\n",
              "</table>\n",
              "</div>"
            ],
            "text/plain": [
              "         step      type       amount     nameOrig  oldbalanceOrg  \\\n",
              "2736446   212  TRANSFER   4953893.08   C728984460     4953893.08   \n",
              "3247297   250  TRANSFER   1343002.08  C1100582606     1343002.08   \n",
              "3760288   279  TRANSFER    536624.41  C1035541766      536624.41   \n",
              "5563713   387  TRANSFER   4892193.09   C908544136     4892193.09   \n",
              "5996407   425  TRANSFER  10000000.00   C689608084    19585040.37   \n",
              "5996409   425  TRANSFER   9585040.37   C452586515    19585040.37   \n",
              "6168499   554  TRANSFER   3576297.10   C193696150     3576297.10   \n",
              "6205439   586  TRANSFER    353874.22  C1684585475      353874.22   \n",
              "6266413   617  TRANSFER   2542664.27   C786455622     2542664.27   \n",
              "6281482   646  TRANSFER  10000000.00    C19004745    10399045.08   \n",
              "6281484   646  TRANSFER    399045.08   C724693370    10399045.08   \n",
              "6296014   671  TRANSFER   3441041.46   C917414431     3441041.46   \n",
              "6351225   702  TRANSFER   3171085.59  C1892216157     3171085.59   \n",
              "6362460   730  TRANSFER  10000000.00  C2140038573    17316255.05   \n",
              "6362462   730  TRANSFER   7316255.05  C1869569059    17316255.05   \n",
              "6362584   741  TRANSFER   5674547.89   C992223106     5674547.89   \n",
              "\n",
              "         newbalanceOrig     nameDest  oldbalanceDest  newbalanceDest  isFraud  \\\n",
              "2736446      4953893.08   C639921569             0.0             0.0        1   \n",
              "3247297      1343002.08  C1147517658             0.0             0.0        1   \n",
              "3760288       536624.41  C1100697970             0.0             0.0        1   \n",
              "5563713      4892193.09   C891140444             0.0             0.0        1   \n",
              "5996407     19585040.37  C1392803603             0.0             0.0        1   \n",
              "5996409     19585040.37  C1109166882             0.0             0.0        1   \n",
              "6168499      3576297.10   C484597480             0.0             0.0        1   \n",
              "6205439       353874.22  C1770418982             0.0             0.0        1   \n",
              "6266413      2542664.27   C661958277             0.0             0.0        1   \n",
              "6281482     10399045.08  C1806199534             0.0             0.0        1   \n",
              "6281484     10399045.08  C1909486199             0.0             0.0        1   \n",
              "6296014      3441041.46  C1082139865             0.0             0.0        1   \n",
              "6351225      3171085.59  C1308068787             0.0             0.0        1   \n",
              "6362460     17316255.05  C1395467927             0.0             0.0        1   \n",
              "6362462     17316255.05  C1861208726             0.0             0.0        1   \n",
              "6362584      5674547.89  C1366804249             0.0             0.0        1   \n",
              "\n",
              "         isFlaggedFraud day  \n",
              "2736446               1   9  \n",
              "3247297               1  11  \n",
              "3760288               1  12  \n",
              "5563713               1  17  \n",
              "5996407               1  18  \n",
              "5996409               1  18  \n",
              "6168499               1  24  \n",
              "6205439               1  25  \n",
              "6266413               1  26  \n",
              "6281482               1  27  \n",
              "6281484               1  27  \n",
              "6296014               1  28  \n",
              "6351225               1  30  \n",
              "6362460               1  31  \n",
              "6362462               1  31  \n",
              "6362584               1  31  "
            ]
          },
          "metadata": {
            "tags": []
          },
          "execution_count": 81
        }
      ]
    },
    {
      "cell_type": "code",
      "metadata": {
        "colab": {
          "base_uri": "https://localhost:8080/",
          "height": 142
        },
        "id": "tzMn1Ax236SZ",
        "outputId": "8e002001-9bc5-46b4-a672-64f983a0cfdd"
      },
      "source": [
        "pd.crosstab(df['isFraud'], df['isFlaggedFraud'])"
      ],
      "execution_count": null,
      "outputs": [
        {
          "output_type": "execute_result",
          "data": {
            "text/html": [
              "<div>\n",
              "<style scoped>\n",
              "    .dataframe tbody tr th:only-of-type {\n",
              "        vertical-align: middle;\n",
              "    }\n",
              "\n",
              "    .dataframe tbody tr th {\n",
              "        vertical-align: top;\n",
              "    }\n",
              "\n",
              "    .dataframe thead th {\n",
              "        text-align: right;\n",
              "    }\n",
              "</style>\n",
              "<table border=\"1\" class=\"dataframe\">\n",
              "  <thead>\n",
              "    <tr style=\"text-align: right;\">\n",
              "      <th>isFlaggedFraud</th>\n",
              "      <th>0</th>\n",
              "      <th>1</th>\n",
              "    </tr>\n",
              "    <tr>\n",
              "      <th>isFraud</th>\n",
              "      <th></th>\n",
              "      <th></th>\n",
              "    </tr>\n",
              "  </thead>\n",
              "  <tbody>\n",
              "    <tr>\n",
              "      <th>0</th>\n",
              "      <td>6354407</td>\n",
              "      <td>0</td>\n",
              "    </tr>\n",
              "    <tr>\n",
              "      <th>1</th>\n",
              "      <td>8197</td>\n",
              "      <td>16</td>\n",
              "    </tr>\n",
              "  </tbody>\n",
              "</table>\n",
              "</div>"
            ],
            "text/plain": [
              "isFlaggedFraud        0   1\n",
              "isFraud                    \n",
              "0               6354407   0\n",
              "1                  8197  16"
            ]
          },
          "metadata": {
            "tags": []
          },
          "execution_count": 82
        }
      ]
    },
    {
      "cell_type": "markdown",
      "metadata": {
        "id": "dlEeHizr6XEJ"
      },
      "source": [
        "In the current scenario, among 8213 fraud transactions model detects only 16 (all of 'TRANSFER' type). Altough non-fraud transactions are flagged correctly by the model, but it has failed to flag most of the fraudulent transactions."
      ]
    },
    {
      "cell_type": "markdown",
      "metadata": {
        "id": "DcSBS2vV-Twj"
      },
      "source": [
        "## Understanding 'isFraud'"
      ]
    },
    {
      "cell_type": "code",
      "metadata": {
        "colab": {
          "base_uri": "https://localhost:8080/",
          "height": 312
        },
        "id": "e3q8y35QncCL",
        "outputId": "756ca5b9-cd05-4fa1-db68-a5180407e234"
      },
      "source": [
        "sns.countplot(df['isFraud'])\r\n",
        "plt.title('Transactions Fraud vs NonFraud')"
      ],
      "execution_count": null,
      "outputs": [
        {
          "output_type": "execute_result",
          "data": {
            "text/plain": [
              "Text(0.5, 1.0, 'Transactions Fraud vs NonFraud')"
            ]
          },
          "metadata": {
            "tags": []
          },
          "execution_count": 83
        },
        {
          "output_type": "display_data",
          "data": {
            "image/png": "[encoded data removed]",
            "text/plain": [
              "<Figure size 432x288 with 1 Axes>"
            ]
          },
          "metadata": {
            "tags": [],
            "needs_background": "light"
          }
        }
      ]
    },
    {
      "cell_type": "code",
      "metadata": {
        "colab": {
          "base_uri": "https://localhost:8080/"
        },
        "id": "gLO0bZyA1VDx",
        "outputId": "c7461887-49b1-4cd6-9f91-9c0ed845db1e"
      },
      "source": [
        "df['isFraud'].value_counts(normalize=True)*100"
      ],
      "execution_count": null,
      "outputs": [
        {
          "output_type": "execute_result",
          "data": {
            "text/plain": [
              "0    99.870918\n",
              "1     0.129082\n",
              "Name: isFraud, dtype: float64"
            ]
          },
          "metadata": {
            "tags": []
          },
          "execution_count": 84
        }
      ]
    },
    {
      "cell_type": "markdown",
      "metadata": {
        "id": "jcQhp8sir38e"
      },
      "source": [
        "Clearly shows we have an imbalanced target. Majority of the transactions are non fraud."
      ]
    },
    {
      "cell_type": "markdown",
      "metadata": {
        "id": "-R4imvOG-yg4"
      },
      "source": [
        "## Understanding 'Type'"
      ]
    },
    {
      "cell_type": "code",
      "metadata": {
        "colab": {
          "base_uri": "https://localhost:8080/",
          "height": 308
        },
        "id": "mQvq5PiWruVy",
        "outputId": "07151271-1355-4561-bd0a-7c36366c5684"
      },
      "source": [
        "sns.countplot(df['type'])"
      ],
      "execution_count": null,
      "outputs": [
        {
          "output_type": "execute_result",
          "data": {
            "text/plain": [
              "<matplotlib.axes._subplots.AxesSubplot at 0x7f761731ff28>"
            ]
          },
          "metadata": {
            "tags": []
          },
          "execution_count": 85
        },
        {
          "output_type": "display_data",
          "data": {
            "image/png": "[encoded data removed]",
            "text/plain": [
              "<Figure size 432x288 with 1 Axes>"
            ]
          },
          "metadata": {
            "tags": [],
            "needs_background": "light"
          }
        }
      ]
    },
    {
      "cell_type": "code",
      "metadata": {
        "colab": {
          "base_uri": "https://localhost:8080/",
          "height": 297
        },
        "id": "Si04HZE0sHx8",
        "outputId": "9443ff84-49d6-4b28-e8c5-62825bdc4e87"
      },
      "source": [
        "sns.countplot(df_fraud['type'])"
      ],
      "execution_count": null,
      "outputs": [
        {
          "output_type": "execute_result",
          "data": {
            "text/plain": [
              "<matplotlib.axes._subplots.AxesSubplot at 0x7f761728c048>"
            ]
          },
          "metadata": {
            "tags": []
          },
          "execution_count": 86
        },
        {
          "output_type": "display_data",
          "data": {
            "image/png": "[encoded data removed]",
            "text/plain": [
              "<Figure size 432x288 with 1 Axes>"
            ]
          },
          "metadata": {
            "tags": [],
            "needs_background": "light"
          }
        }
      ]
    },
    {
      "cell_type": "markdown",
      "metadata": {
        "id": "EmZef6cWtNNg"
      },
      "source": [
        "Fraud only occurs in 'TRANSFER' or 'CASH_OUT' mode."
      ]
    },
    {
      "cell_type": "markdown",
      "metadata": {
        "id": "JnCcfWayUDuW"
      },
      "source": [
        "## Understanding Amount"
      ]
    },
    {
      "cell_type": "code",
      "metadata": {
        "colab": {
          "base_uri": "https://localhost:8080/",
          "height": 307
        },
        "id": "xU-8S1KNUI7X",
        "outputId": "b704f139-427c-4ea6-cfc0-4666f8c55b0b"
      },
      "source": [
        "sns.distplot(df['amount'])"
      ],
      "execution_count": null,
      "outputs": [
        {
          "output_type": "execute_result",
          "data": {
            "text/plain": [
              "<matplotlib.axes._subplots.AxesSubplot at 0x7f761703fd30>"
            ]
          },
          "metadata": {
            "tags": []
          },
          "execution_count": 90
        },
        {
          "output_type": "display_data",
          "data": {
            "image/png": "[encoded data removed]",
            "text/plain": [
              "<Figure size 432x288 with 1 Axes>"
            ]
          },
          "metadata": {
            "tags": [],
            "needs_background": "light"
          }
        }
      ]
    },
    {
      "cell_type": "code",
      "metadata": {
        "colab": {
          "base_uri": "https://localhost:8080/",
          "height": 279
        },
        "id": "3F4p6lIyUWgr",
        "outputId": "5ebcdca1-50e7-4e54-f835-6d73ed1c2be4"
      },
      "source": [
        "box = sns.boxplot(df['isFraud'], df['amount'])\r\n",
        "box.set_yscale('log')"
      ],
      "execution_count": null,
      "outputs": [
        {
          "output_type": "display_data",
          "data": {
            "image/png": "[encoded data removed]",
            "text/plain": [
              "<Figure size 432x288 with 1 Axes>"
            ]
          },
          "metadata": {
            "tags": [],
            "needs_background": "light"
          }
        }
      ]
    },
    {
      "cell_type": "markdown",
      "metadata": {
        "id": "Tsfs-04L7mAP"
      },
      "source": [
        "## Understanding Transaction Type Names"
      ]
    },
    {
      "cell_type": "code",
      "metadata": {
        "id": "o5eW0Sc0uqHk"
      },
      "source": [
        "#run\r\n",
        "df.loc[df['nameOrig'].str.contains('C') & df['nameDest'].str.contains('C'), \"nameType\"] = 'CC'\r\n",
        "df.loc[df['nameOrig'].str.contains('C') & df['nameDest'].str.contains('M'), \"nameType\"] = 'CM'"
      ],
      "execution_count": null,
      "outputs": []
    },
    {
      "cell_type": "code",
      "metadata": {
        "colab": {
          "base_uri": "https://localhost:8080/",
          "height": 204
        },
        "id": "j2kxk4nW7wks",
        "outputId": "866b046d-d78e-476b-bd3e-154c33f71662"
      },
      "source": [
        "df.sample(n=5)"
      ],
      "execution_count": null,
      "outputs": [
        {
          "output_type": "execute_result",
          "data": {
            "text/html": [
              "<div>\n",
              "<style scoped>\n",
              "    .dataframe tbody tr th:only-of-type {\n",
              "        vertical-align: middle;\n",
              "    }\n",
              "\n",
              "    .dataframe tbody tr th {\n",
              "        vertical-align: top;\n",
              "    }\n",
              "\n",
              "    .dataframe thead th {\n",
              "        text-align: right;\n",
              "    }\n",
              "</style>\n",
              "<table border=\"1\" class=\"dataframe\">\n",
              "  <thead>\n",
              "    <tr style=\"text-align: right;\">\n",
              "      <th></th>\n",
              "      <th>step</th>\n",
              "      <th>type</th>\n",
              "      <th>amount</th>\n",
              "      <th>nameOrig</th>\n",
              "      <th>oldbalanceOrg</th>\n",
              "      <th>newbalanceOrig</th>\n",
              "      <th>nameDest</th>\n",
              "      <th>oldbalanceDest</th>\n",
              "      <th>newbalanceDest</th>\n",
              "      <th>isFraud</th>\n",
              "      <th>isFlaggedFraud</th>\n",
              "      <th>day</th>\n",
              "      <th>nameType</th>\n",
              "    </tr>\n",
              "  </thead>\n",
              "  <tbody>\n",
              "    <tr>\n",
              "      <th>1738118</th>\n",
              "      <td>161</td>\n",
              "      <td>CASH_IN</td>\n",
              "      <td>509993.18</td>\n",
              "      <td>C674385421</td>\n",
              "      <td>24296187.52</td>\n",
              "      <td>24806180.69</td>\n",
              "      <td>C478791436</td>\n",
              "      <td>1156214.18</td>\n",
              "      <td>646221.01</td>\n",
              "      <td>0</td>\n",
              "      <td>0</td>\n",
              "      <td>7</td>\n",
              "      <td>CC</td>\n",
              "    </tr>\n",
              "    <tr>\n",
              "      <th>1679748</th>\n",
              "      <td>159</td>\n",
              "      <td>TRANSFER</td>\n",
              "      <td>610110.98</td>\n",
              "      <td>C181012041</td>\n",
              "      <td>0.00</td>\n",
              "      <td>0.00</td>\n",
              "      <td>C1335178462</td>\n",
              "      <td>640184.81</td>\n",
              "      <td>1250295.80</td>\n",
              "      <td>0</td>\n",
              "      <td>0</td>\n",
              "      <td>7</td>\n",
              "      <td>CC</td>\n",
              "    </tr>\n",
              "    <tr>\n",
              "      <th>614911</th>\n",
              "      <td>34</td>\n",
              "      <td>CASH_OUT</td>\n",
              "      <td>32000.40</td>\n",
              "      <td>C383553344</td>\n",
              "      <td>0.00</td>\n",
              "      <td>0.00</td>\n",
              "      <td>C1615311108</td>\n",
              "      <td>283380.98</td>\n",
              "      <td>360594.27</td>\n",
              "      <td>0</td>\n",
              "      <td>0</td>\n",
              "      <td>2</td>\n",
              "      <td>CC</td>\n",
              "    </tr>\n",
              "    <tr>\n",
              "      <th>3883386</th>\n",
              "      <td>283</td>\n",
              "      <td>CASH_IN</td>\n",
              "      <td>82620.45</td>\n",
              "      <td>C64368796</td>\n",
              "      <td>2419408.06</td>\n",
              "      <td>2502028.51</td>\n",
              "      <td>C303187435</td>\n",
              "      <td>839922.97</td>\n",
              "      <td>757302.51</td>\n",
              "      <td>0</td>\n",
              "      <td>0</td>\n",
              "      <td>12</td>\n",
              "      <td>CC</td>\n",
              "    </tr>\n",
              "    <tr>\n",
              "      <th>3013683</th>\n",
              "      <td>232</td>\n",
              "      <td>PAYMENT</td>\n",
              "      <td>24933.83</td>\n",
              "      <td>C1429287794</td>\n",
              "      <td>0.00</td>\n",
              "      <td>0.00</td>\n",
              "      <td>M830680684</td>\n",
              "      <td>0.00</td>\n",
              "      <td>0.00</td>\n",
              "      <td>0</td>\n",
              "      <td>0</td>\n",
              "      <td>10</td>\n",
              "      <td>CM</td>\n",
              "    </tr>\n",
              "  </tbody>\n",
              "</table>\n",
              "</div>"
            ],
            "text/plain": [
              "         step      type     amount     nameOrig  oldbalanceOrg  \\\n",
              "1738118   161   CASH_IN  509993.18   C674385421    24296187.52   \n",
              "1679748   159  TRANSFER  610110.98   C181012041           0.00   \n",
              "614911     34  CASH_OUT   32000.40   C383553344           0.00   \n",
              "3883386   283   CASH_IN   82620.45    C64368796     2419408.06   \n",
              "3013683   232   PAYMENT   24933.83  C1429287794           0.00   \n",
              "\n",
              "         newbalanceOrig     nameDest  oldbalanceDest  newbalanceDest  isFraud  \\\n",
              "1738118     24806180.69   C478791436      1156214.18       646221.01        0   \n",
              "1679748            0.00  C1335178462       640184.81      1250295.80        0   \n",
              "614911             0.00  C1615311108       283380.98       360594.27        0   \n",
              "3883386      2502028.51   C303187435       839922.97       757302.51        0   \n",
              "3013683            0.00   M830680684            0.00            0.00        0   \n",
              "\n",
              "         isFlaggedFraud day nameType  \n",
              "1738118               0   7       CC  \n",
              "1679748               0   7       CC  \n",
              "614911                0   2       CC  \n",
              "3883386               0  12       CC  \n",
              "3013683               0  10       CM  "
            ]
          },
          "metadata": {
            "tags": []
          },
          "execution_count": 8
        }
      ]
    },
    {
      "cell_type": "code",
      "metadata": {
        "colab": {
          "base_uri": "https://localhost:8080/"
        },
        "id": "im7lSiXS7wnc",
        "outputId": "36d05856-ca15-4d8b-b1bc-1c0b5ac7d0a2"
      },
      "source": [
        "df['nameType'].value_counts()"
      ],
      "execution_count": null,
      "outputs": [
        {
          "output_type": "execute_result",
          "data": {
            "text/plain": [
              "CC    4211125\n",
              "CM    2151495\n",
              "Name: nameType, dtype: int64"
            ]
          },
          "metadata": {
            "tags": []
          },
          "execution_count": 16
        }
      ]
    },
    {
      "cell_type": "code",
      "metadata": {
        "id": "055MHiHB7wrR"
      },
      "source": [
        "df_fraud = df[df['isFraud']==1]"
      ],
      "execution_count": null,
      "outputs": []
    },
    {
      "cell_type": "code",
      "metadata": {
        "colab": {
          "base_uri": "https://localhost:8080/"
        },
        "id": "JSxYVSgU-bdx",
        "outputId": "18f1581f-cb01-4bc6-e235-a57b573f5ad8"
      },
      "source": [
        "df_fraud['nameType'].value_counts()"
      ],
      "execution_count": null,
      "outputs": [
        {
          "output_type": "execute_result",
          "data": {
            "text/plain": [
              "CC    8213\n",
              "Name: nameType, dtype: int64"
            ]
          },
          "metadata": {
            "tags": []
          },
          "execution_count": 18
        }
      ]
    },
    {
      "cell_type": "markdown",
      "metadata": {
        "id": "6ChbzZ2m-mP5"
      },
      "source": [
        "Transactions are 2 types - CC (Customer to Customer) and CM (Customer to Merchant). Fraud transactions occur only when the transaction type is CC."
      ]
    },
    {
      "cell_type": "markdown",
      "metadata": {
        "id": "n_3LLkO_Swed"
      },
      "source": [
        "## Understanding Balance Originating"
      ]
    },
    {
      "cell_type": "code",
      "metadata": {
        "id": "CQNM0dyyiE9x"
      },
      "source": [
        "#run\r\n",
        "df.loc[df['type']=='CASH_IN','trueNewBalanceOrig'] = df.loc[df['type']=='CASH_IN','oldbalanceOrg'] + df.loc[df['type']=='CASH_IN','amount']\r\n",
        "df.loc[df['type']!='CASH_IN','trueNewBalanceOrig'] = df.loc[df['type']!='CASH_IN','oldbalanceOrg'] - df.loc[df['type']!='CASH_IN','amount']"
      ],
      "execution_count": null,
      "outputs": []
    },
    {
      "cell_type": "code",
      "metadata": {
        "colab": {
          "base_uri": "https://localhost:8080/",
          "height": 224
        },
        "id": "0cGTl-9Hjzdf",
        "outputId": "581b61b8-accb-4b60-a542-fd26bde20511"
      },
      "source": [
        "#run\r\n",
        "df['newBalOrigFlag'] = df['trueNewBalanceOrig'] != df['newbalanceOrig']\r\n",
        "df.sample(n=5)"
      ],
      "execution_count": null,
      "outputs": [
        {
          "output_type": "execute_result",
          "data": {
            "text/html": [
              "<div>\n",
              "<style scoped>\n",
              "    .dataframe tbody tr th:only-of-type {\n",
              "        vertical-align: middle;\n",
              "    }\n",
              "\n",
              "    .dataframe tbody tr th {\n",
              "        vertical-align: top;\n",
              "    }\n",
              "\n",
              "    .dataframe thead th {\n",
              "        text-align: right;\n",
              "    }\n",
              "</style>\n",
              "<table border=\"1\" class=\"dataframe\">\n",
              "  <thead>\n",
              "    <tr style=\"text-align: right;\">\n",
              "      <th></th>\n",
              "      <th>step</th>\n",
              "      <th>type</th>\n",
              "      <th>amount</th>\n",
              "      <th>nameOrig</th>\n",
              "      <th>oldbalanceOrg</th>\n",
              "      <th>newbalanceOrig</th>\n",
              "      <th>nameDest</th>\n",
              "      <th>oldbalanceDest</th>\n",
              "      <th>newbalanceDest</th>\n",
              "      <th>isFraud</th>\n",
              "      <th>isFlaggedFraud</th>\n",
              "      <th>day</th>\n",
              "      <th>nameType</th>\n",
              "      <th>trueNewBalanceOrig</th>\n",
              "      <th>newBalOrigFlag</th>\n",
              "    </tr>\n",
              "  </thead>\n",
              "  <tbody>\n",
              "    <tr>\n",
              "      <th>51501</th>\n",
              "      <td>9</td>\n",
              "      <td>CASH_OUT</td>\n",
              "      <td>79942.91</td>\n",
              "      <td>C183901119</td>\n",
              "      <td>189.0</td>\n",
              "      <td>0.00</td>\n",
              "      <td>C2113587938</td>\n",
              "      <td>60119.00</td>\n",
              "      <td>140061.91</td>\n",
              "      <td>0</td>\n",
              "      <td>0</td>\n",
              "      <td>1</td>\n",
              "      <td>CC</td>\n",
              "      <td>-79753.91</td>\n",
              "      <td>True</td>\n",
              "    </tr>\n",
              "    <tr>\n",
              "      <th>2848917</th>\n",
              "      <td>227</td>\n",
              "      <td>TRANSFER</td>\n",
              "      <td>2142766.38</td>\n",
              "      <td>C1105139872</td>\n",
              "      <td>0.0</td>\n",
              "      <td>0.00</td>\n",
              "      <td>C1670805591</td>\n",
              "      <td>2577350.36</td>\n",
              "      <td>4720116.73</td>\n",
              "      <td>0</td>\n",
              "      <td>0</td>\n",
              "      <td>10</td>\n",
              "      <td>CC</td>\n",
              "      <td>-2142766.38</td>\n",
              "      <td>True</td>\n",
              "    </tr>\n",
              "    <tr>\n",
              "      <th>1444785</th>\n",
              "      <td>140</td>\n",
              "      <td>PAYMENT</td>\n",
              "      <td>7919.94</td>\n",
              "      <td>C90706755</td>\n",
              "      <td>46874.0</td>\n",
              "      <td>38954.06</td>\n",
              "      <td>M1322525957</td>\n",
              "      <td>0.00</td>\n",
              "      <td>0.00</td>\n",
              "      <td>0</td>\n",
              "      <td>0</td>\n",
              "      <td>6</td>\n",
              "      <td>CM</td>\n",
              "      <td>38954.06</td>\n",
              "      <td>False</td>\n",
              "    </tr>\n",
              "    <tr>\n",
              "      <th>3509155</th>\n",
              "      <td>259</td>\n",
              "      <td>PAYMENT</td>\n",
              "      <td>7140.32</td>\n",
              "      <td>C730102147</td>\n",
              "      <td>3469.0</td>\n",
              "      <td>0.00</td>\n",
              "      <td>M623661301</td>\n",
              "      <td>0.00</td>\n",
              "      <td>0.00</td>\n",
              "      <td>0</td>\n",
              "      <td>0</td>\n",
              "      <td>11</td>\n",
              "      <td>CM</td>\n",
              "      <td>-3671.32</td>\n",
              "      <td>True</td>\n",
              "    </tr>\n",
              "    <tr>\n",
              "      <th>533644</th>\n",
              "      <td>21</td>\n",
              "      <td>PAYMENT</td>\n",
              "      <td>887.29</td>\n",
              "      <td>C1513580173</td>\n",
              "      <td>13832.0</td>\n",
              "      <td>12944.71</td>\n",
              "      <td>M1097162038</td>\n",
              "      <td>0.00</td>\n",
              "      <td>0.00</td>\n",
              "      <td>0</td>\n",
              "      <td>0</td>\n",
              "      <td>1</td>\n",
              "      <td>CM</td>\n",
              "      <td>12944.71</td>\n",
              "      <td>False</td>\n",
              "    </tr>\n",
              "  </tbody>\n",
              "</table>\n",
              "</div>"
            ],
            "text/plain": [
              "         step      type      amount     nameOrig  oldbalanceOrg  \\\n",
              "51501       9  CASH_OUT    79942.91   C183901119          189.0   \n",
              "2848917   227  TRANSFER  2142766.38  C1105139872            0.0   \n",
              "1444785   140   PAYMENT     7919.94    C90706755        46874.0   \n",
              "3509155   259   PAYMENT     7140.32   C730102147         3469.0   \n",
              "533644     21   PAYMENT      887.29  C1513580173        13832.0   \n",
              "\n",
              "         newbalanceOrig     nameDest  oldbalanceDest  newbalanceDest  isFraud  \\\n",
              "51501              0.00  C2113587938        60119.00       140061.91        0   \n",
              "2848917            0.00  C1670805591      2577350.36      4720116.73        0   \n",
              "1444785        38954.06  M1322525957            0.00            0.00        0   \n",
              "3509155            0.00   M623661301            0.00            0.00        0   \n",
              "533644         12944.71  M1097162038            0.00            0.00        0   \n",
              "\n",
              "         isFlaggedFraud day nameType  trueNewBalanceOrig  newBalOrigFlag  \n",
              "51501                 0   1       CC           -79753.91            True  \n",
              "2848917               0  10       CC         -2142766.38            True  \n",
              "1444785               0   6       CM            38954.06           False  \n",
              "3509155               0  11       CM            -3671.32            True  \n",
              "533644                0   1       CM            12944.71           False  "
            ]
          },
          "metadata": {
            "tags": []
          },
          "execution_count": 9
        }
      ]
    },
    {
      "cell_type": "code",
      "metadata": {
        "colab": {
          "base_uri": "https://localhost:8080/"
        },
        "id": "jqybdeKhkKRT",
        "outputId": "b174c08b-124f-4413-f8b1-ef9b582609cf"
      },
      "source": [
        "df['newBalOrigFlag'].value_counts()"
      ],
      "execution_count": null,
      "outputs": [
        {
          "output_type": "execute_result",
          "data": {
            "text/plain": [
              "True     4419954\n",
              "False    1942666\n",
              "Name: newBalOrigFlag, dtype: int64"
            ]
          },
          "metadata": {
            "tags": []
          },
          "execution_count": 21
        }
      ]
    },
    {
      "cell_type": "code",
      "metadata": {
        "colab": {
          "base_uri": "https://localhost:8080/",
          "height": 142
        },
        "id": "YUoSAfrBkURL",
        "outputId": "c8da5232-5cda-4d4a-bfb6-140c772bb3e0"
      },
      "source": [
        "pd.crosstab(df['isFraud'], df['newBalOrigFlag'])"
      ],
      "execution_count": null,
      "outputs": [
        {
          "output_type": "execute_result",
          "data": {
            "text/html": [
              "<div>\n",
              "<style scoped>\n",
              "    .dataframe tbody tr th:only-of-type {\n",
              "        vertical-align: middle;\n",
              "    }\n",
              "\n",
              "    .dataframe tbody tr th {\n",
              "        vertical-align: top;\n",
              "    }\n",
              "\n",
              "    .dataframe thead th {\n",
              "        text-align: right;\n",
              "    }\n",
              "</style>\n",
              "<table border=\"1\" class=\"dataframe\">\n",
              "  <thead>\n",
              "    <tr style=\"text-align: right;\">\n",
              "      <th>newBalOrigFlag</th>\n",
              "      <th>False</th>\n",
              "      <th>True</th>\n",
              "    </tr>\n",
              "    <tr>\n",
              "      <th>isFraud</th>\n",
              "      <th></th>\n",
              "      <th></th>\n",
              "    </tr>\n",
              "  </thead>\n",
              "  <tbody>\n",
              "    <tr>\n",
              "      <th>0</th>\n",
              "      <td>1934580</td>\n",
              "      <td>4419827</td>\n",
              "    </tr>\n",
              "    <tr>\n",
              "      <th>1</th>\n",
              "      <td>8086</td>\n",
              "      <td>127</td>\n",
              "    </tr>\n",
              "  </tbody>\n",
              "</table>\n",
              "</div>"
            ],
            "text/plain": [
              "newBalOrigFlag    False    True \n",
              "isFraud                         \n",
              "0               1934580  4419827\n",
              "1                  8086      127"
            ]
          },
          "metadata": {
            "tags": []
          },
          "execution_count": 22
        }
      ]
    },
    {
      "cell_type": "markdown",
      "metadata": {
        "id": "3Kht3sM5mIgG"
      },
      "source": [
        "True represents here is some mismatch among the newbalanceOrig and trueNewBalanceOrig. Among Fraud transactions, 127 rows have mismatch values."
      ]
    },
    {
      "cell_type": "code",
      "metadata": {
        "colab": {
          "base_uri": "https://localhost:8080/",
          "height": 306
        },
        "id": "8LbU6-6xKAx7",
        "outputId": "7a52db93-75de-4f4f-a4aa-ad0bd04d08a5"
      },
      "source": [
        "df['newbalanceOrig'].plot.line()"
      ],
      "execution_count": null,
      "outputs": [
        {
          "output_type": "execute_result",
          "data": {
            "text/plain": [
              "<matplotlib.axes._subplots.AxesSubplot at 0x7fd064706160>"
            ]
          },
          "metadata": {
            "tags": []
          },
          "execution_count": 27
        },
        {
          "output_type": "display_data",
          "data": {
            "image/png": "[encoded data removed]",
            "text/plain": [
              "<Figure size 432x288 with 1 Axes>"
            ]
          },
          "metadata": {
            "tags": [],
            "needs_background": "light"
          }
        }
      ]
    },
    {
      "cell_type": "code",
      "metadata": {
        "colab": {
          "base_uri": "https://localhost:8080/",
          "height": 306
        },
        "id": "IR1HANigLWC1",
        "outputId": "cc3b8380-9cad-4549-ac0e-8692de63b1e6"
      },
      "source": [
        "df['trueNewBalanceOrig'].plot.line()"
      ],
      "execution_count": null,
      "outputs": [
        {
          "output_type": "execute_result",
          "data": {
            "text/plain": [
              "<matplotlib.axes._subplots.AxesSubplot at 0x7fd0646483c8>"
            ]
          },
          "metadata": {
            "tags": []
          },
          "execution_count": 28
        },
        {
          "output_type": "display_data",
          "data": {
            "image/png": "[encoded data removed]",
            "text/plain": [
              "<Figure size 432x288 with 1 Axes>"
            ]
          },
          "metadata": {
            "tags": [],
            "needs_background": "light"
          }
        }
      ]
    },
    {
      "cell_type": "code",
      "metadata": {
        "colab": {
          "base_uri": "https://localhost:8080/",
          "height": 361
        },
        "id": "FpIhtYlBOvYm",
        "outputId": "44472b11-3cdc-4776-bef3-cacbd33f4d0e"
      },
      "source": [
        "plt.figure(figsize=(5,5))\r\n",
        "df['newbalanceOrig'].plot(kind='density')\r\n",
        "df['trueNewBalanceOrig'].plot(kind='density')"
      ],
      "execution_count": null,
      "outputs": [
        {
          "output_type": "execute_result",
          "data": {
            "text/plain": [
              "<matplotlib.axes._subplots.AxesSubplot at 0x7fd0632c2c88>"
            ]
          },
          "metadata": {
            "tags": []
          },
          "execution_count": 32
        },
        {
          "output_type": "display_data",
          "data": {
            "image/png": "[encoded data removed]",
            "text/plain": [
              "<Figure size 360x360 with 1 Axes>"
            ]
          },
          "metadata": {
            "tags": [],
            "needs_background": "light"
          }
        }
      ]
    },
    {
      "cell_type": "markdown",
      "metadata": {
        "id": "MYwHywV8RBOA"
      },
      "source": [
        "newbalanceOrig has a higher peak compared to trueNewBalanceOrig."
      ]
    },
    {
      "cell_type": "markdown",
      "metadata": {
        "id": "E_Nax0uDn5EO"
      },
      "source": [
        "## Understanding Balance Destination"
      ]
    },
    {
      "cell_type": "code",
      "metadata": {
        "id": "rStAodTHup8B"
      },
      "source": [
        "#run\r\n",
        "df.loc[df['type']=='CASH_IN','trueNewBalanceDest'] = df.loc[df['type']=='CASH_IN','oldbalanceDest'] - df.loc[df['type']=='CASH_IN','amount']\r\n",
        "df.loc[df['type']!='CASH_IN','trueNewBalanceDest'] = df.loc[df['type']!='CASH_IN','oldbalanceDest'] + df.loc[df['type']!='CASH_IN','amount']"
      ],
      "execution_count": null,
      "outputs": []
    },
    {
      "cell_type": "code",
      "metadata": {
        "colab": {
          "base_uri": "https://localhost:8080/",
          "height": 224
        },
        "id": "JghIkS-9uqBQ",
        "outputId": "8c474fe0-8e26-43ef-876d-b034e5a9b5de"
      },
      "source": [
        "#run\r\n",
        "df['newBalDestFlag'] = df['trueNewBalanceDest'] != df['newbalanceDest']\r\n",
        "df.sample(n=5)"
      ],
      "execution_count": null,
      "outputs": [
        {
          "output_type": "execute_result",
          "data": {
            "text/html": [
              "<div>\n",
              "<style scoped>\n",
              "    .dataframe tbody tr th:only-of-type {\n",
              "        vertical-align: middle;\n",
              "    }\n",
              "\n",
              "    .dataframe tbody tr th {\n",
              "        vertical-align: top;\n",
              "    }\n",
              "\n",
              "    .dataframe thead th {\n",
              "        text-align: right;\n",
              "    }\n",
              "</style>\n",
              "<table border=\"1\" class=\"dataframe\">\n",
              "  <thead>\n",
              "    <tr style=\"text-align: right;\">\n",
              "      <th></th>\n",
              "      <th>step</th>\n",
              "      <th>type</th>\n",
              "      <th>amount</th>\n",
              "      <th>nameOrig</th>\n",
              "      <th>oldbalanceOrg</th>\n",
              "      <th>newbalanceOrig</th>\n",
              "      <th>nameDest</th>\n",
              "      <th>oldbalanceDest</th>\n",
              "      <th>newbalanceDest</th>\n",
              "      <th>isFraud</th>\n",
              "      <th>isFlaggedFraud</th>\n",
              "      <th>day</th>\n",
              "      <th>nameType</th>\n",
              "      <th>trueNewBalanceOrig</th>\n",
              "      <th>newBalOrigFlag</th>\n",
              "      <th>trueNewBalanceDest</th>\n",
              "      <th>newBalDestFlag</th>\n",
              "    </tr>\n",
              "  </thead>\n",
              "  <tbody>\n",
              "    <tr>\n",
              "      <th>2869280</th>\n",
              "      <td>227</td>\n",
              "      <td>CASH_IN</td>\n",
              "      <td>352654.00</td>\n",
              "      <td>C1207461330</td>\n",
              "      <td>462.0</td>\n",
              "      <td>353116.00</td>\n",
              "      <td>C1299474402</td>\n",
              "      <td>143214.61</td>\n",
              "      <td>0.0</td>\n",
              "      <td>0</td>\n",
              "      <td>0</td>\n",
              "      <td>10</td>\n",
              "      <td>CC</td>\n",
              "      <td>353116.00</td>\n",
              "      <td>False</td>\n",
              "      <td>-209439.39</td>\n",
              "      <td>True</td>\n",
              "    </tr>\n",
              "    <tr>\n",
              "      <th>2145540</th>\n",
              "      <td>184</td>\n",
              "      <td>CASH_IN</td>\n",
              "      <td>58839.04</td>\n",
              "      <td>C991407642</td>\n",
              "      <td>99287.0</td>\n",
              "      <td>158126.04</td>\n",
              "      <td>C220540965</td>\n",
              "      <td>0.00</td>\n",
              "      <td>0.0</td>\n",
              "      <td>0</td>\n",
              "      <td>0</td>\n",
              "      <td>8</td>\n",
              "      <td>CC</td>\n",
              "      <td>158126.04</td>\n",
              "      <td>False</td>\n",
              "      <td>-58839.04</td>\n",
              "      <td>True</td>\n",
              "    </tr>\n",
              "    <tr>\n",
              "      <th>5025475</th>\n",
              "      <td>353</td>\n",
              "      <td>CASH_OUT</td>\n",
              "      <td>35272.32</td>\n",
              "      <td>C680489357</td>\n",
              "      <td>33559.0</td>\n",
              "      <td>0.00</td>\n",
              "      <td>C325413976</td>\n",
              "      <td>352666.58</td>\n",
              "      <td>387938.9</td>\n",
              "      <td>0</td>\n",
              "      <td>0</td>\n",
              "      <td>15</td>\n",
              "      <td>CC</td>\n",
              "      <td>-1713.32</td>\n",
              "      <td>True</td>\n",
              "      <td>387938.90</td>\n",
              "      <td>False</td>\n",
              "    </tr>\n",
              "    <tr>\n",
              "      <th>5498488</th>\n",
              "      <td>380</td>\n",
              "      <td>PAYMENT</td>\n",
              "      <td>17409.51</td>\n",
              "      <td>C1674180574</td>\n",
              "      <td>53071.0</td>\n",
              "      <td>35661.49</td>\n",
              "      <td>M722090624</td>\n",
              "      <td>0.00</td>\n",
              "      <td>0.0</td>\n",
              "      <td>0</td>\n",
              "      <td>0</td>\n",
              "      <td>16</td>\n",
              "      <td>CM</td>\n",
              "      <td>35661.49</td>\n",
              "      <td>True</td>\n",
              "      <td>17409.51</td>\n",
              "      <td>True</td>\n",
              "    </tr>\n",
              "    <tr>\n",
              "      <th>642305</th>\n",
              "      <td>35</td>\n",
              "      <td>CASH_OUT</td>\n",
              "      <td>123666.32</td>\n",
              "      <td>C2102252099</td>\n",
              "      <td>9955.0</td>\n",
              "      <td>0.00</td>\n",
              "      <td>C1186861498</td>\n",
              "      <td>27434.11</td>\n",
              "      <td>152149.3</td>\n",
              "      <td>0</td>\n",
              "      <td>0</td>\n",
              "      <td>2</td>\n",
              "      <td>CC</td>\n",
              "      <td>-113711.32</td>\n",
              "      <td>True</td>\n",
              "      <td>151100.43</td>\n",
              "      <td>True</td>\n",
              "    </tr>\n",
              "  </tbody>\n",
              "</table>\n",
              "</div>"
            ],
            "text/plain": [
              "         step      type     amount     nameOrig  oldbalanceOrg  \\\n",
              "2869280   227   CASH_IN  352654.00  C1207461330          462.0   \n",
              "2145540   184   CASH_IN   58839.04   C991407642        99287.0   \n",
              "5025475   353  CASH_OUT   35272.32   C680489357        33559.0   \n",
              "5498488   380   PAYMENT   17409.51  C1674180574        53071.0   \n",
              "642305     35  CASH_OUT  123666.32  C2102252099         9955.0   \n",
              "\n",
              "         newbalanceOrig     nameDest  oldbalanceDest  newbalanceDest  isFraud  \\\n",
              "2869280       353116.00  C1299474402       143214.61             0.0        0   \n",
              "2145540       158126.04   C220540965            0.00             0.0        0   \n",
              "5025475            0.00   C325413976       352666.58        387938.9        0   \n",
              "5498488        35661.49   M722090624            0.00             0.0        0   \n",
              "642305             0.00  C1186861498        27434.11        152149.3        0   \n",
              "\n",
              "         isFlaggedFraud day nameType  trueNewBalanceOrig  newBalOrigFlag  \\\n",
              "2869280               0  10       CC           353116.00           False   \n",
              "2145540               0   8       CC           158126.04           False   \n",
              "5025475               0  15       CC            -1713.32            True   \n",
              "5498488               0  16       CM            35661.49            True   \n",
              "642305                0   2       CC          -113711.32            True   \n",
              "\n",
              "         trueNewBalanceDest  newBalDestFlag  \n",
              "2869280          -209439.39            True  \n",
              "2145540           -58839.04            True  \n",
              "5025475           387938.90           False  \n",
              "5498488            17409.51            True  \n",
              "642305            151100.43            True  "
            ]
          },
          "metadata": {
            "tags": []
          },
          "execution_count": 11
        }
      ]
    },
    {
      "cell_type": "code",
      "metadata": {
        "colab": {
          "base_uri": "https://localhost:8080/"
        },
        "id": "jXpVDFyxBFQy",
        "outputId": "9fb91b78-11e9-49b9-8740-bf24ad38cf92"
      },
      "source": [
        "df['newBalDestFlag'].value_counts()"
      ],
      "execution_count": null,
      "outputs": [
        {
          "output_type": "execute_result",
          "data": {
            "text/plain": [
              "True     4264129\n",
              "False    2098491\n",
              "Name: newBalDestFlag, dtype: int64"
            ]
          },
          "metadata": {
            "tags": []
          },
          "execution_count": 25
        }
      ]
    },
    {
      "cell_type": "code",
      "metadata": {
        "colab": {
          "base_uri": "https://localhost:8080/",
          "height": 142
        },
        "id": "NSTKOr2HBFVL",
        "outputId": "5acc5f3f-3d74-4772-c305-0644eb65e60b"
      },
      "source": [
        "pd.crosstab(df['isFraud'], df['newBalDestFlag'])"
      ],
      "execution_count": null,
      "outputs": [
        {
          "output_type": "execute_result",
          "data": {
            "text/html": [
              "<div>\n",
              "<style scoped>\n",
              "    .dataframe tbody tr th:only-of-type {\n",
              "        vertical-align: middle;\n",
              "    }\n",
              "\n",
              "    .dataframe tbody tr th {\n",
              "        vertical-align: top;\n",
              "    }\n",
              "\n",
              "    .dataframe thead th {\n",
              "        text-align: right;\n",
              "    }\n",
              "</style>\n",
              "<table border=\"1\" class=\"dataframe\">\n",
              "  <thead>\n",
              "    <tr style=\"text-align: right;\">\n",
              "      <th>newBalDestFlag</th>\n",
              "      <th>False</th>\n",
              "      <th>True</th>\n",
              "    </tr>\n",
              "    <tr>\n",
              "      <th>isFraud</th>\n",
              "      <th></th>\n",
              "      <th></th>\n",
              "    </tr>\n",
              "  </thead>\n",
              "  <tbody>\n",
              "    <tr>\n",
              "      <th>0</th>\n",
              "      <td>2095602</td>\n",
              "      <td>4258805</td>\n",
              "    </tr>\n",
              "    <tr>\n",
              "      <th>1</th>\n",
              "      <td>2889</td>\n",
              "      <td>5324</td>\n",
              "    </tr>\n",
              "  </tbody>\n",
              "</table>\n",
              "</div>"
            ],
            "text/plain": [
              "newBalDestFlag    False    True \n",
              "isFraud                         \n",
              "0               2095602  4258805\n",
              "1                  2889     5324"
            ]
          },
          "metadata": {
            "tags": []
          },
          "execution_count": 26
        }
      ]
    },
    {
      "cell_type": "markdown",
      "metadata": {
        "id": "I1F2NXnhIG11"
      },
      "source": [
        "True represents here is some mismatch among the newbalanceDest and trueNewBalanceDest. Among Fraud transactions, 5324 rows have mismatch values."
      ]
    },
    {
      "cell_type": "markdown",
      "metadata": {
        "id": "IR7xhH90Rj9K"
      },
      "source": [
        "## Label Encoding"
      ]
    },
    {
      "cell_type": "code",
      "metadata": {
        "id": "Gh9IRIjyuqMI"
      },
      "source": [
        "#run\r\n",
        "from sklearn.preprocessing import LabelEncoder\r\n",
        "\r\n",
        "df1 = df.copy()\r\n",
        "le = LabelEncoder()\r\n",
        "df1['type'] = le.fit_transform(df1['type'])"
      ],
      "execution_count": 60,
      "outputs": []
    },
    {
      "cell_type": "code",
      "metadata": {
        "colab": {
          "base_uri": "https://localhost:8080/",
          "height": 224
        },
        "id": "sQ1QTSkkDkDw",
        "outputId": "d0fa3ee5-b6b7-4c3f-c19a-458cf62ec80b"
      },
      "source": [
        "#run\r\n",
        "df1['nameType'] = le.fit_transform(df1['nameType'])\r\n",
        "df1.head(5)"
      ],
      "execution_count": 61,
      "outputs": [
        {
          "output_type": "execute_result",
          "data": {
            "text/html": [
              "<div>\n",
              "<style scoped>\n",
              "    .dataframe tbody tr th:only-of-type {\n",
              "        vertical-align: middle;\n",
              "    }\n",
              "\n",
              "    .dataframe tbody tr th {\n",
              "        vertical-align: top;\n",
              "    }\n",
              "\n",
              "    .dataframe thead th {\n",
              "        text-align: right;\n",
              "    }\n",
              "</style>\n",
              "<table border=\"1\" class=\"dataframe\">\n",
              "  <thead>\n",
              "    <tr style=\"text-align: right;\">\n",
              "      <th></th>\n",
              "      <th>step</th>\n",
              "      <th>type</th>\n",
              "      <th>amount</th>\n",
              "      <th>nameOrig</th>\n",
              "      <th>oldbalanceOrg</th>\n",
              "      <th>newbalanceOrig</th>\n",
              "      <th>nameDest</th>\n",
              "      <th>oldbalanceDest</th>\n",
              "      <th>newbalanceDest</th>\n",
              "      <th>isFraud</th>\n",
              "      <th>isFlaggedFraud</th>\n",
              "      <th>day</th>\n",
              "      <th>nameType</th>\n",
              "      <th>trueNewBalanceOrig</th>\n",
              "      <th>newBalOrigFlag</th>\n",
              "      <th>trueNewBalanceDest</th>\n",
              "      <th>newBalDestFlag</th>\n",
              "    </tr>\n",
              "  </thead>\n",
              "  <tbody>\n",
              "    <tr>\n",
              "      <th>0</th>\n",
              "      <td>1</td>\n",
              "      <td>3</td>\n",
              "      <td>9839.64</td>\n",
              "      <td>C1231006815</td>\n",
              "      <td>170136.0</td>\n",
              "      <td>160296.36</td>\n",
              "      <td>M1979787155</td>\n",
              "      <td>0.0</td>\n",
              "      <td>0.0</td>\n",
              "      <td>0</td>\n",
              "      <td>0</td>\n",
              "      <td>1</td>\n",
              "      <td>1</td>\n",
              "      <td>160296.36</td>\n",
              "      <td>False</td>\n",
              "      <td>9839.64</td>\n",
              "      <td>True</td>\n",
              "    </tr>\n",
              "    <tr>\n",
              "      <th>1</th>\n",
              "      <td>1</td>\n",
              "      <td>3</td>\n",
              "      <td>1864.28</td>\n",
              "      <td>C1666544295</td>\n",
              "      <td>21249.0</td>\n",
              "      <td>19384.72</td>\n",
              "      <td>M2044282225</td>\n",
              "      <td>0.0</td>\n",
              "      <td>0.0</td>\n",
              "      <td>0</td>\n",
              "      <td>0</td>\n",
              "      <td>1</td>\n",
              "      <td>1</td>\n",
              "      <td>19384.72</td>\n",
              "      <td>False</td>\n",
              "      <td>1864.28</td>\n",
              "      <td>True</td>\n",
              "    </tr>\n",
              "    <tr>\n",
              "      <th>2</th>\n",
              "      <td>1</td>\n",
              "      <td>4</td>\n",
              "      <td>181.00</td>\n",
              "      <td>C1305486145</td>\n",
              "      <td>181.0</td>\n",
              "      <td>0.00</td>\n",
              "      <td>C553264065</td>\n",
              "      <td>0.0</td>\n",
              "      <td>0.0</td>\n",
              "      <td>1</td>\n",
              "      <td>0</td>\n",
              "      <td>1</td>\n",
              "      <td>0</td>\n",
              "      <td>0.00</td>\n",
              "      <td>False</td>\n",
              "      <td>181.00</td>\n",
              "      <td>True</td>\n",
              "    </tr>\n",
              "    <tr>\n",
              "      <th>3</th>\n",
              "      <td>1</td>\n",
              "      <td>1</td>\n",
              "      <td>181.00</td>\n",
              "      <td>C840083671</td>\n",
              "      <td>181.0</td>\n",
              "      <td>0.00</td>\n",
              "      <td>C38997010</td>\n",
              "      <td>21182.0</td>\n",
              "      <td>0.0</td>\n",
              "      <td>1</td>\n",
              "      <td>0</td>\n",
              "      <td>1</td>\n",
              "      <td>0</td>\n",
              "      <td>0.00</td>\n",
              "      <td>False</td>\n",
              "      <td>21363.00</td>\n",
              "      <td>True</td>\n",
              "    </tr>\n",
              "    <tr>\n",
              "      <th>4</th>\n",
              "      <td>1</td>\n",
              "      <td>3</td>\n",
              "      <td>11668.14</td>\n",
              "      <td>C2048537720</td>\n",
              "      <td>41554.0</td>\n",
              "      <td>29885.86</td>\n",
              "      <td>M1230701703</td>\n",
              "      <td>0.0</td>\n",
              "      <td>0.0</td>\n",
              "      <td>0</td>\n",
              "      <td>0</td>\n",
              "      <td>1</td>\n",
              "      <td>1</td>\n",
              "      <td>29885.86</td>\n",
              "      <td>False</td>\n",
              "      <td>11668.14</td>\n",
              "      <td>True</td>\n",
              "    </tr>\n",
              "  </tbody>\n",
              "</table>\n",
              "</div>"
            ],
            "text/plain": [
              "   step  type    amount     nameOrig  oldbalanceOrg  newbalanceOrig  \\\n",
              "0     1     3   9839.64  C1231006815       170136.0       160296.36   \n",
              "1     1     3   1864.28  C1666544295        21249.0        19384.72   \n",
              "2     1     4    181.00  C1305486145          181.0            0.00   \n",
              "3     1     1    181.00   C840083671          181.0            0.00   \n",
              "4     1     3  11668.14  C2048537720        41554.0        29885.86   \n",
              "\n",
              "      nameDest  oldbalanceDest  newbalanceDest  isFraud  isFlaggedFraud day  \\\n",
              "0  M1979787155             0.0             0.0        0               0   1   \n",
              "1  M2044282225             0.0             0.0        0               0   1   \n",
              "2   C553264065             0.0             0.0        1               0   1   \n",
              "3    C38997010         21182.0             0.0        1               0   1   \n",
              "4  M1230701703             0.0             0.0        0               0   1   \n",
              "\n",
              "   nameType  trueNewBalanceOrig  newBalOrigFlag  trueNewBalanceDest  \\\n",
              "0         1           160296.36           False             9839.64   \n",
              "1         1            19384.72           False             1864.28   \n",
              "2         0                0.00           False              181.00   \n",
              "3         0                0.00           False            21363.00   \n",
              "4         1            29885.86           False            11668.14   \n",
              "\n",
              "   newBalDestFlag  \n",
              "0            True  \n",
              "1            True  \n",
              "2            True  \n",
              "3            True  \n",
              "4            True  "
            ]
          },
          "metadata": {
            "tags": []
          },
          "execution_count": 61
        }
      ]
    },
    {
      "cell_type": "markdown",
      "metadata": {
        "id": "mRA5hxiMNssw"
      },
      "source": [
        "Performed Label Encoding on 'type' and 'nameType'."
      ]
    },
    {
      "cell_type": "markdown",
      "metadata": {
        "id": "VAyjnwdTG_eq"
      },
      "source": [
        "## Checking Correlation"
      ]
    },
    {
      "cell_type": "code",
      "metadata": {
        "colab": {
          "base_uri": "https://localhost:8080/",
          "height": 204
        },
        "id": "56Scxr6gKFu8",
        "outputId": "de17bdca-3db4-4fc5-b9aa-1646a3cc85e0"
      },
      "source": [
        "#run\r\n",
        "df1 = df1.drop(columns=['isFlaggedFraud', 'nameOrig', 'nameDest', 'step', 'newBalOrigFlag', 'newBalDestFlag'], axis = 1)\r\n",
        "df1.head() "
      ],
      "execution_count": 62,
      "outputs": [
        {
          "output_type": "execute_result",
          "data": {
            "text/html": [
              "<div>\n",
              "<style scoped>\n",
              "    .dataframe tbody tr th:only-of-type {\n",
              "        vertical-align: middle;\n",
              "    }\n",
              "\n",
              "    .dataframe tbody tr th {\n",
              "        vertical-align: top;\n",
              "    }\n",
              "\n",
              "    .dataframe thead th {\n",
              "        text-align: right;\n",
              "    }\n",
              "</style>\n",
              "<table border=\"1\" class=\"dataframe\">\n",
              "  <thead>\n",
              "    <tr style=\"text-align: right;\">\n",
              "      <th></th>\n",
              "      <th>type</th>\n",
              "      <th>amount</th>\n",
              "      <th>oldbalanceOrg</th>\n",
              "      <th>newbalanceOrig</th>\n",
              "      <th>oldbalanceDest</th>\n",
              "      <th>newbalanceDest</th>\n",
              "      <th>isFraud</th>\n",
              "      <th>day</th>\n",
              "      <th>nameType</th>\n",
              "      <th>trueNewBalanceOrig</th>\n",
              "      <th>trueNewBalanceDest</th>\n",
              "    </tr>\n",
              "  </thead>\n",
              "  <tbody>\n",
              "    <tr>\n",
              "      <th>0</th>\n",
              "      <td>3</td>\n",
              "      <td>9839.64</td>\n",
              "      <td>170136.0</td>\n",
              "      <td>160296.36</td>\n",
              "      <td>0.0</td>\n",
              "      <td>0.0</td>\n",
              "      <td>0</td>\n",
              "      <td>1</td>\n",
              "      <td>1</td>\n",
              "      <td>160296.36</td>\n",
              "      <td>9839.64</td>\n",
              "    </tr>\n",
              "    <tr>\n",
              "      <th>1</th>\n",
              "      <td>3</td>\n",
              "      <td>1864.28</td>\n",
              "      <td>21249.0</td>\n",
              "      <td>19384.72</td>\n",
              "      <td>0.0</td>\n",
              "      <td>0.0</td>\n",
              "      <td>0</td>\n",
              "      <td>1</td>\n",
              "      <td>1</td>\n",
              "      <td>19384.72</td>\n",
              "      <td>1864.28</td>\n",
              "    </tr>\n",
              "    <tr>\n",
              "      <th>2</th>\n",
              "      <td>4</td>\n",
              "      <td>181.00</td>\n",
              "      <td>181.0</td>\n",
              "      <td>0.00</td>\n",
              "      <td>0.0</td>\n",
              "      <td>0.0</td>\n",
              "      <td>1</td>\n",
              "      <td>1</td>\n",
              "      <td>0</td>\n",
              "      <td>0.00</td>\n",
              "      <td>181.00</td>\n",
              "    </tr>\n",
              "    <tr>\n",
              "      <th>3</th>\n",
              "      <td>1</td>\n",
              "      <td>181.00</td>\n",
              "      <td>181.0</td>\n",
              "      <td>0.00</td>\n",
              "      <td>21182.0</td>\n",
              "      <td>0.0</td>\n",
              "      <td>1</td>\n",
              "      <td>1</td>\n",
              "      <td>0</td>\n",
              "      <td>0.00</td>\n",
              "      <td>21363.00</td>\n",
              "    </tr>\n",
              "    <tr>\n",
              "      <th>4</th>\n",
              "      <td>3</td>\n",
              "      <td>11668.14</td>\n",
              "      <td>41554.0</td>\n",
              "      <td>29885.86</td>\n",
              "      <td>0.0</td>\n",
              "      <td>0.0</td>\n",
              "      <td>0</td>\n",
              "      <td>1</td>\n",
              "      <td>1</td>\n",
              "      <td>29885.86</td>\n",
              "      <td>11668.14</td>\n",
              "    </tr>\n",
              "  </tbody>\n",
              "</table>\n",
              "</div>"
            ],
            "text/plain": [
              "   type    amount  oldbalanceOrg  newbalanceOrig  oldbalanceDest  \\\n",
              "0     3   9839.64       170136.0       160296.36             0.0   \n",
              "1     3   1864.28        21249.0        19384.72             0.0   \n",
              "2     4    181.00          181.0            0.00             0.0   \n",
              "3     1    181.00          181.0            0.00         21182.0   \n",
              "4     3  11668.14        41554.0        29885.86             0.0   \n",
              "\n",
              "   newbalanceDest  isFraud day  nameType  trueNewBalanceOrig  \\\n",
              "0             0.0        0   1         1           160296.36   \n",
              "1             0.0        0   1         1            19384.72   \n",
              "2             0.0        1   1         0                0.00   \n",
              "3             0.0        1   1         0                0.00   \n",
              "4             0.0        0   1         1            29885.86   \n",
              "\n",
              "   trueNewBalanceDest  \n",
              "0             9839.64  \n",
              "1             1864.28  \n",
              "2              181.00  \n",
              "3            21363.00  \n",
              "4            11668.14  "
            ]
          },
          "metadata": {
            "tags": []
          },
          "execution_count": 62
        }
      ]
    },
    {
      "cell_type": "code",
      "metadata": {
        "colab": {
          "base_uri": "https://localhost:8080/"
        },
        "id": "37WJOjegKUMP",
        "outputId": "f3dd1c72-1c87-48e2-97d5-c5dc26f348e0"
      },
      "source": [
        "corr_train = df1.corr()['isFraud']\r\n",
        "print(corr_train.sort_values())"
      ],
      "execution_count": null,
      "outputs": [
        {
          "output_type": "stream",
          "text": [
            "nameType             -0.025697\n",
            "newbalanceOrig       -0.008148\n",
            "trueNewBalanceOrig   -0.006507\n",
            "oldbalanceDest       -0.005885\n",
            "newbalanceDest        0.000535\n",
            "trueNewBalanceDest    0.008020\n",
            "oldbalanceOrg         0.010154\n",
            "type                  0.020833\n",
            "amount                0.076688\n",
            "isFraud               1.000000\n",
            "Name: isFraud, dtype: float64\n"
          ],
          "name": "stdout"
        }
      ]
    },
    {
      "cell_type": "code",
      "metadata": {
        "colab": {
          "base_uri": "https://localhost:8080/",
          "height": 599
        },
        "id": "r98Mc8R3KsT0",
        "outputId": "c096e898-7a21-48b9-aa5d-cf245fb17e1e"
      },
      "source": [
        "corrmat = df1.corr() \r\n",
        "\r\n",
        "f, ax = plt.subplots(figsize =(9, 8)) \r\n",
        "sns.heatmap(corrmat, ax = ax, cmap =\"YlGnBu\", linewidths = 0.1, annot=True, fmt='.2f') "
      ],
      "execution_count": null,
      "outputs": [
        {
          "output_type": "execute_result",
          "data": {
            "text/plain": [
              "<matplotlib.axes._subplots.AxesSubplot at 0x7f1c8ded6470>"
            ]
          },
          "metadata": {
            "tags": []
          },
          "execution_count": 36
        },
        {
          "output_type": "display_data",
          "data": {
            "image/png": "[encoded data removed]",
            "text/plain": [
              "<Figure size 648x576 with 2 Axes>"
            ]
          },
          "metadata": {
            "tags": [],
            "needs_background": "light"
          }
        }
      ]
    },
    {
      "cell_type": "markdown",
      "metadata": {
        "id": "QfcuWIOWGbX_"
      },
      "source": [
        "## Model Building"
      ]
    },
    {
      "cell_type": "code",
      "metadata": {
        "id": "_f_OmHd5uzGj"
      },
      "source": [
        "# Splitting into 80% train and 20% test\r\n",
        "\r\n",
        "from sklearn.model_selection import train_test_split\r\n",
        "\r\n",
        "X = df1.drop(columns=['isFraud'], axis=1)\r\n",
        "y = df1['isFraud']\r\n",
        "\r\n",
        "X_train, X_test, y_train, y_test = train_test_split(X, y, test_size=0.2, random_state=0)"
      ],
      "execution_count": 63,
      "outputs": []
    },
    {
      "cell_type": "code",
      "metadata": {
        "id": "YYJTSAp2uznO",
        "colab": {
          "base_uri": "https://localhost:8080/"
        },
        "outputId": "7a1009f2-9415-4e2e-fc2c-aaf53d47b2ab"
      },
      "source": [
        "# Train model\r\n",
        "\r\n",
        "from sklearn import tree\r\n",
        "from sklearn.tree import DecisionTreeClassifier\r\n",
        "\r\n",
        "model = DecisionTreeClassifier()\r\n",
        "model.fit(X_train, y_train)"
      ],
      "execution_count": 64,
      "outputs": [
        {
          "output_type": "execute_result",
          "data": {
            "text/plain": [
              "DecisionTreeClassifier(ccp_alpha=0.0, class_weight=None, criterion='gini',\n",
              "                       max_depth=None, max_features=None, max_leaf_nodes=None,\n",
              "                       min_impurity_decrease=0.0, min_impurity_split=None,\n",
              "                       min_samples_leaf=1, min_samples_split=2,\n",
              "                       min_weight_fraction_leaf=0.0, presort='deprecated',\n",
              "                       random_state=None, splitter='best')"
            ]
          },
          "metadata": {
            "tags": []
          },
          "execution_count": 64
        }
      ]
    },
    {
      "cell_type": "code",
      "metadata": {
        "id": "be6xC-vvuzt1"
      },
      "source": [
        "# Applying model to test data\r\n",
        "\r\n",
        "y_preds = model.predict(X_test)"
      ],
      "execution_count": 65,
      "outputs": []
    },
    {
      "cell_type": "code",
      "metadata": {
        "id": "3Dz9VfyCu6y3",
        "colab": {
          "base_uri": "https://localhost:8080/",
          "height": 359
        },
        "outputId": "96161807-e5f5-47a1-a42f-31953bdc04b3"
      },
      "source": [
        "# Checking Actual vs Predicted values\r\n",
        "\r\n",
        "act_vs_pred = pd.DataFrame({'Actual': y_test, 'Prediction': y_preds})\r\n",
        "act_vs_pred.sample(10)"
      ],
      "execution_count": 66,
      "outputs": [
        {
          "output_type": "execute_result",
          "data": {
            "text/html": [
              "<div>\n",
              "<style scoped>\n",
              "    .dataframe tbody tr th:only-of-type {\n",
              "        vertical-align: middle;\n",
              "    }\n",
              "\n",
              "    .dataframe tbody tr th {\n",
              "        vertical-align: top;\n",
              "    }\n",
              "\n",
              "    .dataframe thead th {\n",
              "        text-align: right;\n",
              "    }\n",
              "</style>\n",
              "<table border=\"1\" class=\"dataframe\">\n",
              "  <thead>\n",
              "    <tr style=\"text-align: right;\">\n",
              "      <th></th>\n",
              "      <th>Actual</th>\n",
              "      <th>Prediction</th>\n",
              "    </tr>\n",
              "  </thead>\n",
              "  <tbody>\n",
              "    <tr>\n",
              "      <th>877785</th>\n",
              "      <td>0</td>\n",
              "      <td>0</td>\n",
              "    </tr>\n",
              "    <tr>\n",
              "      <th>4447880</th>\n",
              "      <td>0</td>\n",
              "      <td>0</td>\n",
              "    </tr>\n",
              "    <tr>\n",
              "      <th>330018</th>\n",
              "      <td>0</td>\n",
              "      <td>0</td>\n",
              "    </tr>\n",
              "    <tr>\n",
              "      <th>1738824</th>\n",
              "      <td>0</td>\n",
              "      <td>0</td>\n",
              "    </tr>\n",
              "    <tr>\n",
              "      <th>6074043</th>\n",
              "      <td>0</td>\n",
              "      <td>0</td>\n",
              "    </tr>\n",
              "    <tr>\n",
              "      <th>50758</th>\n",
              "      <td>0</td>\n",
              "      <td>0</td>\n",
              "    </tr>\n",
              "    <tr>\n",
              "      <th>4671480</th>\n",
              "      <td>0</td>\n",
              "      <td>0</td>\n",
              "    </tr>\n",
              "    <tr>\n",
              "      <th>6328658</th>\n",
              "      <td>0</td>\n",
              "      <td>0</td>\n",
              "    </tr>\n",
              "    <tr>\n",
              "      <th>3084727</th>\n",
              "      <td>0</td>\n",
              "      <td>0</td>\n",
              "    </tr>\n",
              "    <tr>\n",
              "      <th>4442467</th>\n",
              "      <td>0</td>\n",
              "      <td>0</td>\n",
              "    </tr>\n",
              "  </tbody>\n",
              "</table>\n",
              "</div>"
            ],
            "text/plain": [
              "         Actual  Prediction\n",
              "877785        0           0\n",
              "4447880       0           0\n",
              "330018        0           0\n",
              "1738824       0           0\n",
              "6074043       0           0\n",
              "50758         0           0\n",
              "4671480       0           0\n",
              "6328658       0           0\n",
              "3084727       0           0\n",
              "4442467       0           0"
            ]
          },
          "metadata": {
            "tags": []
          },
          "execution_count": 66
        }
      ]
    },
    {
      "cell_type": "code",
      "metadata": {
        "id": "cN9JH2klu61u",
        "colab": {
          "base_uri": "https://localhost:8080/"
        },
        "outputId": "404b1875-daf6-43a9-ed5f-c541439034d9"
      },
      "source": [
        "# Finding classification metrics for model\r\n",
        "\r\n",
        "from sklearn.metrics import classification_report\r\n",
        "\r\n",
        "print('Classification metrics: \\n', classification_report(y_test, y_preds))"
      ],
      "execution_count": 67,
      "outputs": [
        {
          "output_type": "stream",
          "text": [
            "Classification metrics: \n",
            "               precision    recall  f1-score   support\n",
            "\n",
            "           0       1.00      1.00      1.00   1270883\n",
            "           1       0.99      1.00      0.99      1641\n",
            "\n",
            "    accuracy                           1.00   1272524\n",
            "   macro avg       0.99      1.00      1.00   1272524\n",
            "weighted avg       1.00      1.00      1.00   1272524\n",
            "\n"
          ],
          "name": "stdout"
        }
      ]
    },
    {
      "cell_type": "code",
      "metadata": {
        "colab": {
          "base_uri": "https://localhost:8080/"
        },
        "id": "UNFRj-MZb_px",
        "outputId": "2844d3ca-f742-4c59-f574-8e7af6921851"
      },
      "source": [
        "from sklearn.metrics import accuracy_score\r\n",
        "\r\n",
        "print('Accuracy Score: ', accuracy_score(y_test, y_preds)*100)"
      ],
      "execution_count": 69,
      "outputs": [
        {
          "output_type": "stream",
          "text": [
            "Accuracy Score:  99.99819256847022\n"
          ],
          "name": "stdout"
        }
      ]
    },
    {
      "cell_type": "code",
      "metadata": {
        "id": "05nnDLn1u64C",
        "colab": {
          "base_uri": "https://localhost:8080/",
          "height": 296
        },
        "outputId": "4d726008-97ba-4bf4-b25a-0888a17fd2a3"
      },
      "source": [
        "# Checking which feature was more important for our model\r\n",
        "\r\n",
        "vars = ['day','type','amount','oldbalanceOrg','newbalanceOrig','oldbalanceDest','newbalanceDest','nameType','trueNewBalanceOrig','trueNewBalanceDest']\r\n",
        "feat_imp = pd.Series(model.feature_importances_, vars).sort_values()\r\n",
        "feat_imp.plot(kind='barh')\r\n",
        "plt.xlabel('Feature Importance Score')"
      ],
      "execution_count": null,
      "outputs": [
        {
          "output_type": "execute_result",
          "data": {
            "text/plain": [
              "Text(0.5, 0, 'Feature Importance Score')"
            ]
          },
          "metadata": {
            "tags": []
          },
          "execution_count": 56
        },
        {
          "output_type": "display_data",
          "data": {
            "image/png": "[encoded data removed]",
            "text/plain": [
              "<Figure size 432x288 with 1 Axes>"
            ]
          },
          "metadata": {
            "tags": [],
            "needs_background": "light"
          }
        }
      ]
    }
  ]
}